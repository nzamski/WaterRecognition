{
 "cells": [
  {
   "cell_type": "code",
   "execution_count": 1,
   "id": "c30b7c9e-a5fe-4aba-b0a1-7c245c1624c2",
   "metadata": {},
   "outputs": [],
   "source": [
    "import pandas as pd\n",
    "import seaborn as sns\n",
    "import matplotlib.pyplot as plt"
   ]
  },
  {
   "cell_type": "code",
   "execution_count": 19,
   "id": "728d60d1-e57a-4076-8413-b5dbed29312f",
   "metadata": {},
   "outputs": [
    {
     "name": "stdout",
     "output_type": "stream",
     "text": [
      "   binary       count    ratio\n",
      "0       0   622364888  0.38008\n",
      "1       1  1015093712  0.61992\n"
     ]
    }
   ],
   "source": [
    "dataFrame = pd.read_csv('rgb_value_count.csv')\n",
    "binary_count = dataFrame.groupby(['binary'])['count'].sum().reset_index()\n",
    "binary_count['ratio'] = binary_count['count'] / binary_count['count'].sum()\n",
    "print(binary_count)"
   ]
  },
  {
   "cell_type": "code",
   "execution_count": 22,
   "id": "ef1be38a-dae3-4c42-944f-440b0aab7c67",
   "metadata": {},
   "outputs": [
    {
     "name": "stdout",
     "output_type": "stream",
     "text": [
      "   binary      count     ratio\n",
      "0       0  509116856  0.395503\n",
      "1       1  778148052  0.604497\n"
     ]
    }
   ],
   "source": [
    "dataFrame = pd.read_csv('rgb_train.csv')\n",
    "dataFrame['binary'] = (dataFrame['value'] < 128).astype(int)\n",
    "binary_count = dataFrame.groupby(['binary'])['count'].sum().reset_index()\n",
    "binary_count['ratio'] = binary_count['count'] / binary_count['count'].sum()\n",
    "print(binary_count)"
   ]
  },
  {
   "cell_type": "code",
   "execution_count": 23,
   "id": "8b62bd51-0e6d-460b-a72e-ac567fa3962c",
   "metadata": {},
   "outputs": [
    {
     "name": "stdout",
     "output_type": "stream",
     "text": [
      "   binary      count     ratio\n",
      "0       0  113248032  0.323387\n",
      "1       1  236945660  0.676613\n"
     ]
    }
   ],
   "source": [
    "dataFrame = pd.read_csv('rgb_test.csv')\n",
    "dataFrame['binary'] = (dataFrame['value'] < 128).astype(int)\n",
    "binary_count = dataFrame.groupby(['binary'])['count'].sum().reset_index()\n",
    "binary_count['ratio'] = binary_count['count'] / binary_count['count'].sum()\n",
    "print(binary_count)"
   ]
  },
  {
   "cell_type": "code",
   "execution_count": 25,
   "id": "29f75269-fe02-4d52-b8f3-7c12fdee016b",
   "metadata": {},
   "outputs": [],
   "source": [
    "dataFrame = pd.read_csv('test_per_pixel_SVM.csv')"
   ]
  },
  {
   "cell_type": "code",
   "execution_count": 26,
   "id": "3d5d3e58-ef93-47ef-83c2-417d3967438a",
   "metadata": {},
   "outputs": [
    {
     "data": {
      "text/html": [
       "<div>\n",
       "<style scoped>\n",
       "    .dataframe tbody tr th:only-of-type {\n",
       "        vertical-align: middle;\n",
       "    }\n",
       "\n",
       "    .dataframe tbody tr th {\n",
       "        vertical-align: top;\n",
       "    }\n",
       "\n",
       "    .dataframe thead th {\n",
       "        text-align: right;\n",
       "    }\n",
       "</style>\n",
       "<table border=\"1\" class=\"dataframe\">\n",
       "  <thead>\n",
       "    <tr style=\"text-align: right;\">\n",
       "      <th></th>\n",
       "      <th>correct_prediction</th>\n",
       "      <th>count</th>\n",
       "    </tr>\n",
       "  </thead>\n",
       "  <tbody>\n",
       "    <tr>\n",
       "      <th>0</th>\n",
       "      <td>False</td>\n",
       "      <td>182</td>\n",
       "    </tr>\n",
       "    <tr>\n",
       "      <th>1</th>\n",
       "      <td>True</td>\n",
       "      <td>319</td>\n",
       "    </tr>\n",
       "  </tbody>\n",
       "</table>\n",
       "</div>"
      ],
      "text/plain": [
       "   correct_prediction  count\n",
       "0               False    182\n",
       "1                True    319"
      ]
     },
     "execution_count": 26,
     "metadata": {},
     "output_type": "execute_result"
    }
   ],
   "source": [
    "dataFrame.groupby('correct_prediction')['count'].sum().reset_index(name='count')"
   ]
  },
  {
   "cell_type": "code",
   "execution_count": 30,
   "id": "bb3b037d-8e37-4a79-9b2b-5e0e68a153af",
   "metadata": {},
   "outputs": [
    {
     "data": {
      "text/plain": [
       "501"
      ]
     },
     "execution_count": 30,
     "metadata": {},
     "output_type": "execute_result"
    }
   ],
   "source": [
    "dataFrame['count'].sum()"
   ]
  },
  {
   "cell_type": "code",
   "execution_count": 43,
   "id": "11c1b696-37ed-4c35-9ec5-171eac53ed5f",
   "metadata": {},
   "outputs": [
    {
     "data": {
      "text/plain": [
       "torch.Size([1, 3, 2009, 2007])"
      ]
     },
     "execution_count": 43,
     "metadata": {},
     "output_type": "execute_result"
    }
   ],
   "source": [
    "from PIL import Image\n",
    "import numpy as np\n",
    "import torchvision\n",
    "\n",
    "path = r'C:\\Users\\nzams\\Desktop\\WaterRecognition\\Water Bodies Dataset\\Images\\water_body_1.jpg'\n",
    "a = torchvision.io.read_image(path).unsqueeze(0)/256\n",
    "a.shape"
   ]
  },
  {
   "cell_type": "code",
   "execution_count": 44,
   "id": "f76e1881-82c0-402f-9069-04eaa6f51890",
   "metadata": {},
   "outputs": [],
   "source": [
    "import torch.nn as nn\n",
    "c = nn.Conv2d(3, 9, (3,3))"
   ]
  },
  {
   "cell_type": "code",
   "execution_count": 45,
   "id": "b573bed6-957c-42ba-994d-5a7623b742de",
   "metadata": {},
   "outputs": [],
   "source": [
    "b = c(a)"
   ]
  },
  {
   "cell_type": "code",
   "execution_count": 46,
   "id": "af6f7795-9e4a-485d-bfd4-3f194ae4527e",
   "metadata": {},
   "outputs": [
    {
     "data": {
      "text/plain": [
       "torch.Size([1, 3, 2009, 2007])"
      ]
     },
     "execution_count": 46,
     "metadata": {},
     "output_type": "execute_result"
    }
   ],
   "source": [
    "a.shape"
   ]
  },
  {
   "cell_type": "code",
   "execution_count": 47,
   "id": "e9cdcf25-9249-45ff-882a-7197871dd0cf",
   "metadata": {},
   "outputs": [
    {
     "data": {
      "text/plain": [
       "torch.Size([1, 9, 2007, 2005])"
      ]
     },
     "execution_count": 47,
     "metadata": {},
     "output_type": "execute_result"
    }
   ],
   "source": [
    "b.shape"
   ]
  },
  {
   "cell_type": "code",
   "execution_count": 50,
   "id": "da03c0c2-2ad5-46c9-a9c4-1606df5473ca",
   "metadata": {},
   "outputs": [],
   "source": [
    "import torch\n",
    "import torch.nn as nn\n",
    "import torch.optim as optim\n",
    "import torch.nn.functional as f"
   ]
  },
  {
   "cell_type": "code",
   "execution_count": 95,
   "id": "8b78e866-30c4-49f1-a46c-034d868633e8",
   "metadata": {},
   "outputs": [],
   "source": [
    "class Conv(nn.Module):\n",
    "    # define the model\n",
    "    def __init__(self, activation):\n",
    "        super().__init__()\n",
    "        self.activation = activation\n",
    "        self.conv1 = nn.Conv2d(3, 3, (3, 3))\n",
    "        self.conv2 = nn.Conv2d(3, 3, (3, 3))\n",
    "        self.fc1 = nn.Linear(3 * 7 * 7, 49)  # expected basic input size (15, 15)\n",
    "        self.fc2 = nn.Linear(49, 7)\n",
    "        self.fc3 = nn.Linear(7, 2)\n",
    "\n",
    "    def forward(self, x):\n",
    "        x = f.max_pool2d(self.activation(self.conv1(x)), kernel_size=3, stride=1)\n",
    "        x = f.max_pool2d(self.activation(self.conv2(x)), kernel_size=3, stride=1)\n",
    "        x = torch.flatten(x, 1)\n",
    "        x = self.activation(self.fc1(x))\n",
    "        x = self.activation(self.fc2(x))\n",
    "        x = self.fc3(x)\n",
    "        return x"
   ]
  },
  {
   "cell_type": "code",
   "execution_count": 96,
   "id": "17858179-cf52-4304-87e6-3e5bed1c4a5f",
   "metadata": {},
   "outputs": [],
   "source": [
    "test = a[:,:,:15,:15]"
   ]
  },
  {
   "cell_type": "code",
   "execution_count": 97,
   "id": "e053852d-5fd0-40d5-aa55-a7583ce15a09",
   "metadata": {},
   "outputs": [],
   "source": [
    "act = f.relu"
   ]
  },
  {
   "cell_type": "code",
   "execution_count": 98,
   "id": "de10498e-7684-41fb-a592-edb360b07be6",
   "metadata": {},
   "outputs": [],
   "source": [
    "net = Conv(act)"
   ]
  },
  {
   "cell_type": "code",
   "execution_count": 99,
   "id": "bcfa8794-88e2-49e0-8798-6c955cab56ee",
   "metadata": {},
   "outputs": [],
   "source": [
    "pool = f.max_pool2d(test, kernel_size=3, stride=1)"
   ]
  },
  {
   "cell_type": "code",
   "execution_count": 100,
   "id": "18eebfa4-4d92-4839-af60-c29c0d9378d4",
   "metadata": {},
   "outputs": [
    {
     "data": {
      "text/plain": [
       "torch.Size([1, 3, 13, 13])"
      ]
     },
     "execution_count": 100,
     "metadata": {},
     "output_type": "execute_result"
    }
   ],
   "source": [
    "pool.shape"
   ]
  },
  {
   "cell_type": "code",
   "execution_count": 101,
   "id": "d9c2e015-70a0-49c4-9130-06a450b2faaf",
   "metadata": {
    "tags": []
   },
   "outputs": [],
   "source": [
    "result = net(test)"
   ]
  },
  {
   "cell_type": "code",
   "execution_count": 102,
   "id": "8f4e27e8-8ddd-4223-8709-ed75690f22ce",
   "metadata": {},
   "outputs": [
    {
     "data": {
      "text/plain": [
       "tensor([[ 0.3479, -0.2259]], grad_fn=<AddmmBackward>)"
      ]
     },
     "execution_count": 102,
     "metadata": {},
     "output_type": "execute_result"
    }
   ],
   "source": [
    "result"
   ]
  },
  {
   "cell_type": "code",
   "execution_count": null,
   "id": "e247927c-3552-4711-8cd5-76c19d8a6fc1",
   "metadata": {},
   "outputs": [],
   "source": []
  }
 ],
 "metadata": {
  "kernelspec": {
   "display_name": "Python 3 (ipykernel)",
   "language": "python",
   "name": "python3"
  },
  "language_info": {
   "codemirror_mode": {
    "name": "ipython",
    "version": 3
   },
   "file_extension": ".py",
   "mimetype": "text/x-python",
   "name": "python",
   "nbconvert_exporter": "python",
   "pygments_lexer": "ipython3",
   "version": "3.7.10"
  }
 },
 "nbformat": 4,
 "nbformat_minor": 5
}
