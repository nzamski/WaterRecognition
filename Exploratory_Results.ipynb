{
  "nbformat": 4,
  "nbformat_minor": 5,
  "metadata": {
    "kernelspec": {
      "display_name": "Python 3 (ipykernel)",
      "language": "python",
      "name": "python3"
    },
    "language_info": {
      "codemirror_mode": {
        "name": "ipython",
        "version": 3
      },
      "file_extension": ".py",
      "mimetype": "text/x-python",
      "name": "python",
      "nbconvert_exporter": "python",
      "pygments_lexer": "ipython3",
      "version": "3.7.10"
    },
    "colab": {
      "name": "Exploratory Results.ipynb",
      "provenance": [],
      "collapsed_sections": []
    }
  },
  "cells": [
    {
      "cell_type": "code",
      "metadata": {
        "id": "c30b7c9e-a5fe-4aba-b0a1-7c245c1624c2"
      },
      "source": [
        "import pandas as pd\n",
        "import seaborn as sns\n",
        "import matplotlib.pyplot as plt"
      ],
      "id": "c30b7c9e-a5fe-4aba-b0a1-7c245c1624c2",
      "execution_count": null,
      "outputs": []
    },
    {
      "cell_type": "code",
      "metadata": {
        "id": "728d60d1-e57a-4076-8413-b5dbed29312f",
        "outputId": "a6a258c0-bc58-49f2-cbe2-4940eb607904"
      },
      "source": [
        "dataFrame = pd.read_csv('rgb_value_count.csv')\n",
        "binary_count = dataFrame.groupby(['binary'])['count'].sum().reset_index()\n",
        "binary_count['ratio'] = binary_count['count'] / binary_count['count'].sum()\n",
        "print(binary_count)"
      ],
      "id": "728d60d1-e57a-4076-8413-b5dbed29312f",
      "execution_count": null,
      "outputs": [
        {
          "output_type": "stream",
          "text": [
            "   binary       count    ratio\n",
            "0       0   622364888  0.38008\n",
            "1       1  1015093712  0.61992\n"
          ],
          "name": "stdout"
        }
      ]
    },
    {
      "cell_type": "code",
      "metadata": {
        "id": "ef1be38a-dae3-4c42-944f-440b0aab7c67",
        "outputId": "bb748cf1-5e03-41b1-e085-a4751d7f0d20"
      },
      "source": [
        "dataFrame = pd.read_csv('rgb_train.csv')\n",
        "dataFrame['binary'] = (dataFrame['value'] < 128).astype(int)\n",
        "binary_count = dataFrame.groupby(['binary'])['count'].sum().reset_index()\n",
        "binary_count['ratio'] = binary_count['count'] / binary_count['count'].sum()\n",
        "print(binary_count)"
      ],
      "id": "ef1be38a-dae3-4c42-944f-440b0aab7c67",
      "execution_count": null,
      "outputs": [
        {
          "output_type": "stream",
          "text": [
            "   binary      count     ratio\n",
            "0       0  509116856  0.395503\n",
            "1       1  778148052  0.604497\n"
          ],
          "name": "stdout"
        }
      ]
    },
    {
      "cell_type": "code",
      "metadata": {
        "id": "8b62bd51-0e6d-460b-a72e-ac567fa3962c",
        "outputId": "65f59326-991f-47da-e55b-b85f5edf5692"
      },
      "source": [
        "dataFrame = pd.read_csv('rgb_test.csv')\n",
        "dataFrame['binary'] = (dataFrame['value'] < 128).astype(int)\n",
        "binary_count = dataFrame.groupby(['binary'])['count'].sum().reset_index()\n",
        "binary_count['ratio'] = binary_count['count'] / binary_count['count'].sum()\n",
        "print(binary_count)"
      ],
      "id": "8b62bd51-0e6d-460b-a72e-ac567fa3962c",
      "execution_count": null,
      "outputs": [
        {
          "output_type": "stream",
          "text": [
            "   binary      count     ratio\n",
            "0       0  113248032  0.323387\n",
            "1       1  236945660  0.676613\n"
          ],
          "name": "stdout"
        }
      ]
    },
    {
      "cell_type": "code",
      "metadata": {
        "id": "29f75269-fe02-4d52-b8f3-7c12fdee016b"
      },
      "source": [
        "dataFrame = pd.read_csv('test_per_pixel_SVM.csv')"
      ],
      "id": "29f75269-fe02-4d52-b8f3-7c12fdee016b",
      "execution_count": null,
      "outputs": []
    },
    {
      "cell_type": "code",
      "metadata": {
        "id": "3d5d3e58-ef93-47ef-83c2-417d3967438a",
        "outputId": "ec531212-8d06-4867-a0ea-65578505a803"
      },
      "source": [
        "dataFrame.groupby('correct_prediction')['count'].sum().reset_index(name='count')"
      ],
      "id": "3d5d3e58-ef93-47ef-83c2-417d3967438a",
      "execution_count": null,
      "outputs": [
        {
          "output_type": "execute_result",
          "data": {
            "text/html": [
              "<div>\n",
              "<style scoped>\n",
              "    .dataframe tbody tr th:only-of-type {\n",
              "        vertical-align: middle;\n",
              "    }\n",
              "\n",
              "    .dataframe tbody tr th {\n",
              "        vertical-align: top;\n",
              "    }\n",
              "\n",
              "    .dataframe thead th {\n",
              "        text-align: right;\n",
              "    }\n",
              "</style>\n",
              "<table border=\"1\" class=\"dataframe\">\n",
              "  <thead>\n",
              "    <tr style=\"text-align: right;\">\n",
              "      <th></th>\n",
              "      <th>correct_prediction</th>\n",
              "      <th>count</th>\n",
              "    </tr>\n",
              "  </thead>\n",
              "  <tbody>\n",
              "    <tr>\n",
              "      <th>0</th>\n",
              "      <td>False</td>\n",
              "      <td>182</td>\n",
              "    </tr>\n",
              "    <tr>\n",
              "      <th>1</th>\n",
              "      <td>True</td>\n",
              "      <td>319</td>\n",
              "    </tr>\n",
              "  </tbody>\n",
              "</table>\n",
              "</div>"
            ],
            "text/plain": [
              "   correct_prediction  count\n",
              "0               False    182\n",
              "1                True    319"
            ]
          },
          "metadata": {
            "tags": []
          },
          "execution_count": 26
        }
      ]
    },
    {
      "cell_type": "code",
      "metadata": {
        "id": "bb3b037d-8e37-4a79-9b2b-5e0e68a153af",
        "outputId": "c979e83d-6d8f-432a-c118-b82c9e28b8bf"
      },
      "source": [
        "dataFrame['count'].sum()"
      ],
      "id": "bb3b037d-8e37-4a79-9b2b-5e0e68a153af",
      "execution_count": null,
      "outputs": [
        {
          "output_type": "execute_result",
          "data": {
            "text/plain": [
              "501"
            ]
          },
          "metadata": {
            "tags": []
          },
          "execution_count": 30
        }
      ]
    },
    {
      "cell_type": "code",
      "metadata": {
        "id": "11c1b696-37ed-4c35-9ec5-171eac53ed5f",
        "outputId": "b21d2afa-2320-4d64-fa80-504b1c08a618"
      },
      "source": [
        "from PIL import Image\n",
        "import numpy as np\n",
        "import torchvision\n",
        "\n",
        "path = r'C:\\Users\\nzams\\Desktop\\WaterRecognition\\Water Bodies Dataset\\Images\\water_body_1.jpg'\n",
        "a = torchvision.io.read_image(path).unsqueeze(0)/256\n",
        "a.shape"
      ],
      "id": "11c1b696-37ed-4c35-9ec5-171eac53ed5f",
      "execution_count": null,
      "outputs": [
        {
          "output_type": "execute_result",
          "data": {
            "text/plain": [
              "torch.Size([1, 3, 2009, 2007])"
            ]
          },
          "metadata": {
            "tags": []
          },
          "execution_count": 43
        }
      ]
    },
    {
      "cell_type": "code",
      "metadata": {
        "id": "f76e1881-82c0-402f-9069-04eaa6f51890"
      },
      "source": [
        "import torch.nn as nn\n",
        "c = nn.Conv2d(3, 9, (3,3))"
      ],
      "id": "f76e1881-82c0-402f-9069-04eaa6f51890",
      "execution_count": null,
      "outputs": []
    },
    {
      "cell_type": "code",
      "metadata": {
        "id": "b573bed6-957c-42ba-994d-5a7623b742de"
      },
      "source": [
        "b = c(a)"
      ],
      "id": "b573bed6-957c-42ba-994d-5a7623b742de",
      "execution_count": null,
      "outputs": []
    },
    {
      "cell_type": "code",
      "metadata": {
        "id": "af6f7795-9e4a-485d-bfd4-3f194ae4527e",
        "outputId": "887551cc-bd74-4cbe-f2a3-ae86823c1692"
      },
      "source": [
        "a.shape"
      ],
      "id": "af6f7795-9e4a-485d-bfd4-3f194ae4527e",
      "execution_count": null,
      "outputs": [
        {
          "output_type": "execute_result",
          "data": {
            "text/plain": [
              "torch.Size([1, 3, 2009, 2007])"
            ]
          },
          "metadata": {
            "tags": []
          },
          "execution_count": 46
        }
      ]
    },
    {
      "cell_type": "code",
      "metadata": {
        "id": "e9cdcf25-9249-45ff-882a-7197871dd0cf",
        "outputId": "57053e82-83b1-4ae7-cfe3-2a0fdc51b48a"
      },
      "source": [
        "b.shape"
      ],
      "id": "e9cdcf25-9249-45ff-882a-7197871dd0cf",
      "execution_count": null,
      "outputs": [
        {
          "output_type": "execute_result",
          "data": {
            "text/plain": [
              "torch.Size([1, 9, 2007, 2005])"
            ]
          },
          "metadata": {
            "tags": []
          },
          "execution_count": 47
        }
      ]
    },
    {
      "cell_type": "code",
      "metadata": {
        "id": "da03c0c2-2ad5-46c9-a9c4-1606df5473ca"
      },
      "source": [
        "import torch\n",
        "import torch.nn as nn\n",
        "import torch.optim as optim\n",
        "import torch.nn.functional as f"
      ],
      "id": "da03c0c2-2ad5-46c9-a9c4-1606df5473ca",
      "execution_count": null,
      "outputs": []
    },
    {
      "cell_type": "code",
      "metadata": {
        "id": "8b78e866-30c4-49f1-a46c-034d868633e8"
      },
      "source": [
        "class Conv(nn.Module):\n",
        "    # define the model\n",
        "    def __init__(self, activation):\n",
        "        super().__init__()\n",
        "        self.activation = activation\n",
        "        self.conv1 = nn.Conv2d(3, 3, (3, 3))\n",
        "        self.conv2 = nn.Conv2d(3, 3, (3, 3))\n",
        "        self.fc1 = nn.Linear(3 * 7 * 7, 49)  # expected basic input size (15, 15)\n",
        "        self.fc2 = nn.Linear(49, 7)\n",
        "        self.fc3 = nn.Linear(7, 2)\n",
        "\n",
        "    def forward(self, x):\n",
        "        x = f.max_pool2d(self.activation(self.conv1(x)), kernel_size=3, stride=1)\n",
        "        x = f.max_pool2d(self.activation(self.conv2(x)), kernel_size=3, stride=1)\n",
        "        x = torch.flatten(x, 1)\n",
        "        x = self.activation(self.fc1(x))\n",
        "        x = self.activation(self.fc2(x))\n",
        "        x = self.fc3(x)\n",
        "        return x"
      ],
      "id": "8b78e866-30c4-49f1-a46c-034d868633e8",
      "execution_count": null,
      "outputs": []
    },
    {
      "cell_type": "code",
      "metadata": {
        "id": "17858179-cf52-4304-87e6-3e5bed1c4a5f"
      },
      "source": [
        "test = a[:,:,:15,:15]"
      ],
      "id": "17858179-cf52-4304-87e6-3e5bed1c4a5f",
      "execution_count": null,
      "outputs": []
    },
    {
      "cell_type": "code",
      "metadata": {
        "id": "e053852d-5fd0-40d5-aa55-a7583ce15a09"
      },
      "source": [
        "act = f.relu"
      ],
      "id": "e053852d-5fd0-40d5-aa55-a7583ce15a09",
      "execution_count": null,
      "outputs": []
    },
    {
      "cell_type": "code",
      "metadata": {
        "id": "de10498e-7684-41fb-a592-edb360b07be6"
      },
      "source": [
        "net = Conv(act)"
      ],
      "id": "de10498e-7684-41fb-a592-edb360b07be6",
      "execution_count": null,
      "outputs": []
    },
    {
      "cell_type": "code",
      "metadata": {
        "id": "bcfa8794-88e2-49e0-8798-6c955cab56ee"
      },
      "source": [
        "pool = f.max_pool2d(test, kernel_size=3, stride=1)"
      ],
      "id": "bcfa8794-88e2-49e0-8798-6c955cab56ee",
      "execution_count": null,
      "outputs": []
    },
    {
      "cell_type": "code",
      "metadata": {
        "id": "18eebfa4-4d92-4839-af60-c29c0d9378d4",
        "outputId": "68ab3b1e-e8d6-4556-c163-add5d5fb9e48"
      },
      "source": [
        "pool.shape"
      ],
      "id": "18eebfa4-4d92-4839-af60-c29c0d9378d4",
      "execution_count": null,
      "outputs": [
        {
          "output_type": "execute_result",
          "data": {
            "text/plain": [
              "torch.Size([1, 3, 13, 13])"
            ]
          },
          "metadata": {
            "tags": []
          },
          "execution_count": 100
        }
      ]
    },
    {
      "cell_type": "code",
      "metadata": {
        "tags": [],
        "id": "d9c2e015-70a0-49c4-9130-06a450b2faaf"
      },
      "source": [
        "result = net(test)"
      ],
      "id": "d9c2e015-70a0-49c4-9130-06a450b2faaf",
      "execution_count": null,
      "outputs": []
    },
    {
      "cell_type": "code",
      "metadata": {
        "id": "8f4e27e8-8ddd-4223-8709-ed75690f22ce",
        "outputId": "039e2db3-51be-4b45-a0fa-4d8efb214725"
      },
      "source": [
        "result"
      ],
      "id": "8f4e27e8-8ddd-4223-8709-ed75690f22ce",
      "execution_count": null,
      "outputs": [
        {
          "output_type": "execute_result",
          "data": {
            "text/plain": [
              "tensor([[ 0.3479, -0.2259]], grad_fn=<AddmmBackward>)"
            ]
          },
          "metadata": {
            "tags": []
          },
          "execution_count": 102
        }
      ]
    },
    {
      "cell_type": "code",
      "metadata": {
        "id": "e247927c-3552-4711-8cd5-76c19d8a6fc1"
      },
      "source": [
        ""
      ],
      "id": "e247927c-3552-4711-8cd5-76c19d8a6fc1",
      "execution_count": null,
      "outputs": []
    }
  ]
}