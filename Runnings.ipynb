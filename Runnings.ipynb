{
  "nbformat": 4,
  "nbformat_minor": 0,
  "metadata": {
    "colab": {
      "name": "Runnings.ipynb",
      "provenance": [],
      "collapsed_sections": [],
      "machine_shape": "hm"
    },
    "kernelspec": {
      "name": "python3",
      "display_name": "Python 3"
    },
    "language_info": {
      "name": "python"
    },
    "accelerator": "TPU"
  },
  "cells": [
    {
      "cell_type": "markdown",
      "metadata": {
        "id": "D4e-H2RBro2p"
      },
      "source": [
        "### Preperations and imports"
      ]
    },
    {
      "cell_type": "code",
      "metadata": {
        "colab": {
          "base_uri": "https://localhost:8080/"
        },
        "id": "fuj8pA5yfdDE",
        "outputId": "c21fcc57-1d2b-448e-82cd-9782361caba0"
      },
      "source": [
        "# mount Google Drive\n",
        "from google.colab import drive\n",
        "drive.mount('/content/drive')\n",
        "# change working directory\n",
        "%cd drive/MyDrive"
      ],
      "execution_count": 1,
      "outputs": [
        {
          "output_type": "stream",
          "name": "stdout",
          "text": [
            "Mounted at /content/drive\n",
            "/content/drive/MyDrive\n"
          ]
        }
      ]
    },
    {
      "cell_type": "code",
      "metadata": {
        "id": "kUcYfWVoYOXN"
      },
      "source": [
        "import os\n",
        "import PIL\n",
        "import cv2\n",
        "import torch\n",
        "import random\n",
        "import pandas as pd\n",
        "import torch.nn as nn\n",
        "import torchvision\n",
        "import torch.nn.functional as f\n",
        "\n",
        "from tqdm import tqdm\n",
        "from torch import optim\n",
        "from pathlib import Path\n",
        "from datetime import datetime\n",
        "from torchvision.utils import save_image\n",
        "from torch.utils.data import Dataset, DataLoader\n",
        "from torchvision.transforms import Resize, functional\n",
        "\n",
        "# hacks for time-saving\n",
        "torch.backends.cudnn.benchmark = True\n",
        "torch.autograd.profiler.emit_nvtx(False)\n",
        "torch.autograd.profiler.profile(False)\n",
        "torch.autograd.set_detect_anomaly(False)\n",
        "\n",
        "# if GPU is available, prepare it for heavy calculations\n",
        "device = torch.device(\"cuda\" if torch.cuda.is_available() else \"cpu\")\n",
        "# empty GPU memory\n",
        "torch.cuda.empty_cache()"
      ],
      "execution_count": 2,
      "outputs": []
    },
    {
      "cell_type": "code",
      "metadata": {
        "colab": {
          "base_uri": "https://localhost:8080/",
          "height": 35
        },
        "id": "keTR12CKjCm4",
        "outputId": "9faaaab4-39a7-49b7-ef5b-483fc6b986dc"
      },
      "source": [
        "# view working directory\n",
        "os.getcwd()"
      ],
      "execution_count": 10,
      "outputs": [
        {
          "output_type": "execute_result",
          "data": {
            "application/vnd.google.colaboratory.intrinsic+json": {
              "type": "string"
            },
            "text/plain": [
              "'/content/drive/MyDrive'"
            ]
          },
          "metadata": {},
          "execution_count": 10
        }
      ]
    },
    {
      "cell_type": "code",
      "source": [
        "# view GPU info and processes\n",
        "!nvidia-smi"
      ],
      "metadata": {
        "colab": {
          "base_uri": "https://localhost:8080/"
        },
        "id": "NE68fWu9UPHA",
        "outputId": "a8434188-40c9-4f64-81c0-2f662a2c0609"
      },
      "execution_count": 3,
      "outputs": [
        {
          "output_type": "stream",
          "name": "stdout",
          "text": [
            "NVIDIA-SMI has failed because it couldn't communicate with the NVIDIA driver. Make sure that the latest NVIDIA driver is installed and running.\n",
            "\n"
          ]
        }
      ]
    },
    {
      "cell_type": "markdown",
      "metadata": {
        "id": "t3ZaHyjIr23W"
      },
      "source": [
        "### Deep Learning algorithm"
      ]
    },
    {
      "cell_type": "code",
      "metadata": {
        "id": "aFT2L4tPd2hx"
      },
      "source": [
        "def get_train_test_paths(test_ratio: float = 0.2):\n",
        "    # extract the data from the dataset folder\n",
        "    files = [file_name for file_name in\n",
        "             Path(os.getcwd() + os.sep + 'Water Bodies Dataset' + os.sep + 'Images').rglob(\"*.jpg\")]\n",
        "    # randomize the order of the data\n",
        "    random.shuffle(files)\n",
        "    # separate test and train files\n",
        "    first_train = int(test_ratio * len(files))\n",
        "    test_path = files[:first_train]\n",
        "    train_path = files[first_train:]\n",
        "    return train_path, test_path\n",
        "\n",
        "\n",
        "def get_mask_path(file_path):\n",
        "    # gets source image path, returns mask path\n",
        "    file_path = str(file_path).replace('Images', 'Masks')\n",
        "    return file_path\n",
        "\n",
        "\n",
        "class WaterDataset(Dataset):\n",
        "    def __init__(self, path_list, transform_source=None, transform_both=None):\n",
        "        self.sources = path_list\n",
        "        self.transform_source = transform_source\n",
        "        self.transform_both = transform_both\n",
        "\n",
        "    def __len__(self):\n",
        "        return len(self.sources)\n",
        "\n",
        "    def __getitem__(self, index):\n",
        "        img_path = self.sources[index]\n",
        "        img_num = int(str(img_path).rsplit('_', 1)[1].split('.')[0])\n",
        "        source = functional.to_tensor(PIL.Image.open(img_path))\n",
        "        label = functional.to_tensor(PIL.Image.open(get_mask_path(img_path)).convert('L'))\n",
        "\n",
        "        if self.transform_source:\n",
        "            source = self.transform_source(source)\n",
        "        if self.transform_both:\n",
        "            source = self.transform_both(source)\n",
        "            label = self.transform_both(label)\n",
        "            label = (label < 0.5).float()\n",
        "\n",
        "            assert len(label.unique()) <= 2, \"threshold didn't work\"\n",
        "\n",
        "        return source, label, img_num\n",
        "\n",
        "\n",
        "def get_train_test_loaders(batch_size, length):\n",
        "    train_path, test_path = get_train_test_paths()\n",
        "    train_loader = DataLoader(dataset=WaterDataset(train_path,\n",
        "                                                   transform_both=torchvision.transforms.Resize((length, length))),\n",
        "                              batch_size=batch_size,\n",
        "                              pin_memory=True,\n",
        "                              num_workers=1,\n",
        "                              shuffle=True)\n",
        "    test_loader = DataLoader(dataset=WaterDataset(tuple(test_path),\n",
        "                                                  transform_both=torchvision.transforms.Resize((length, length))),\n",
        "                             batch_size=batch_size,\n",
        "                             pin_memory=True,\n",
        "                             num_workers=1,\n",
        "                             shuffle=False)\n",
        "\n",
        "    return train_loader, test_loader, test_path"
      ],
      "execution_count": 4,
      "outputs": []
    },
    {
      "cell_type": "code",
      "metadata": {
        "id": "iWCYst_PeX88"
      },
      "source": [
        "class Hidden1(nn.Module):\n",
        "    def __init__(self, length, hidden_size, activation):\n",
        "        super().__init__()\n",
        "        self.activation = activation\n",
        "        self.length = length\n",
        "\n",
        "        self.flat = nn.Flatten()\n",
        "        self.fc1 = nn.Linear(length**2 * 3, hidden_size)\n",
        "        self.fc2 = nn.Linear(hidden_size, length**2 * 2)  # 2 for each class\n",
        "\n",
        "    def forward(self, x):\n",
        "        x = self.flat(x)\n",
        "        x = self.activation(self.fc1(x))\n",
        "        x = self.activation(self.fc2(x))\n",
        "        x = x.reshape(x.size(0) * self.length**2, 2)\n",
        "        return x\n",
        "\n",
        "\n",
        "class Hidden2(nn.Module):\n",
        "    def __init__(self, length, hidden_size, activation):\n",
        "        super().__init__()\n",
        "        self.activation = activation\n",
        "        self.length = length\n",
        "\n",
        "        self.flat = nn.Flatten()\n",
        "        self.fc1 = nn.Linear(length**2 * 3, hidden_size)\n",
        "        self.fc2 = nn.Linear(hidden_size, hidden_size)\n",
        "        self.fc3 = nn.Linear(hidden_size, length**2 * 2)  # 2 for each class\n",
        "\n",
        "    def forward(self, x):\n",
        "        x = self.flat(x)\n",
        "        x = self.activation(self.fc1(x))\n",
        "        x = self.activation(self.fc2(x))\n",
        "        x = self.activation(self.fc3(x))\n",
        "        x = x.reshape(x.size(0) * self.length**2, 2)\n",
        "        return x\n",
        "\n",
        "\n",
        "class Conv1(nn.Module):\n",
        "    def __init__(self, length, hidden_size, activation, kernel_size: int = 3):\n",
        "        super().__init__()\n",
        "        self.activation = activation\n",
        "        self.length = length\n",
        "        self.kernel_size = kernel_size  # expected odd kernel_size\n",
        "        self.hidden_size = hidden_size\n",
        "\n",
        "        self.conv1 = nn.Conv2d(3, 3, self.kernel_size, padding=int((self.kernel_size - 1) / 2))\n",
        "        self.fc1 = nn.Linear(length**2 * 3, self.hidden_size)\n",
        "        self.fc2 = nn.Linear(self.hidden_size, self.hidden_size)\n",
        "        self.fc3 = nn.Linear(self.hidden_size, length**2 * 2)\n",
        "\n",
        "    def forward(self, x):\n",
        "        x = self.activation(self.conv1(x))\n",
        "        x = f.max_pool2d(x, kernel_size=self.kernel_size, stride=1, padding=int((self.kernel_size - 1) / 2))\n",
        "        x = torch.flatten(x, 1)\n",
        "        x = self.activation(self.fc1(x))\n",
        "        x = self.activation(self.fc2(x))\n",
        "        x = self.fc3(x)\n",
        "        x = x.reshape(x.size(0) * self.length**2, 2)\n",
        "        return x\n",
        "\n",
        "\n",
        "class Conv2(nn.Module):\n",
        "    def __init__(self, length, hidden_size, activation, kernel_size: int = 3):\n",
        "        super().__init__()\n",
        "        self.activation = activation\n",
        "        self.length = length\n",
        "        self.kernel_size = kernel_size  # expected odd kernel_size\n",
        "        self.hidden_size = hidden_size\n",
        "\n",
        "        self.conv1 = nn.Conv2d(3, 3, self.kernel_size, padding=int((self.kernel_size - 1) / 2))\n",
        "        self.conv2 = nn.Conv2d(3, 3, self.kernel_size, padding=int((self.kernel_size - 1) / 2))\n",
        "        self.fc1 = nn.Linear(length**2 * 3, self.hidden_size)\n",
        "        self.fc2 = nn.Linear(self.hidden_size, self.hidden_size)\n",
        "        self.fc3 = nn.Linear(self.hidden_size, length**2 * 2)\n",
        "\n",
        "    def forward(self, x):\n",
        "        x = self.activation(self.conv1(x))\n",
        "        x = f.max_pool2d(x, kernel_size=self.kernel_size, stride=1, padding=int((self.kernel_size - 1) / 2))\n",
        "        x = self.activation(self.conv2(x))\n",
        "        x = f.max_pool2d(x, kernel_size=self.kernel_size, stride=1, padding=int((self.kernel_size - 1) / 2))\n",
        "        x = torch.flatten(x, 1)\n",
        "        x = self.activation(self.fc1(x))\n",
        "        x = self.activation(self.fc2(x))\n",
        "        x = self.fc3(x)\n",
        "        x = x.reshape(x.size(0) * self.length**2, 2)\n",
        "        return x\n",
        "\n",
        "\n",
        "class Conv3(nn.Module):\n",
        "    def __init__(self, length, hidden_size, activation, kernel_size: int = 3):\n",
        "        super().__init__()\n",
        "        self.activation = activation\n",
        "        self.length = length\n",
        "        self.kernel_size = kernel_size  # expected odd kernel_size\n",
        "        self.hidden_size = hidden_size\n",
        "\n",
        "        self.conv1 = nn.Conv2d(3, 3, self.kernel_size, padding=int((self.kernel_size - 1) / 2))\n",
        "        self.conv2 = nn.Conv2d(3, 3, self.kernel_size, padding=int((self.kernel_size - 1) / 2))\n",
        "        self.conv3 = nn.Conv2d(3, 3, self.kernel_size, padding=int((self.kernel_size - 1) / 2))\n",
        "        self.fc1 = nn.Linear(length**2 * 3, self.hidden_size)\n",
        "        self.fc2 = nn.Linear(self.hidden_size, self.hidden_size)\n",
        "        self.fc3 = nn.Linear(self.hidden_size, length**2 * 2)\n",
        "\n",
        "    def forward(self, x):\n",
        "        x = self.activation(self.conv1(x))\n",
        "        x = f.max_pool2d(x, kernel_size=self.kernel_size, stride=1, padding=int((self.kernel_size - 1) / 2))\n",
        "        x = self.activation(self.conv2(x))\n",
        "        x = f.max_pool2d(x, kernel_size=self.kernel_size, stride=1, padding=int((self.kernel_size - 1) / 2))\n",
        "        x = self.activation(self.conv3(x))\n",
        "        x = f.max_pool2d(x, kernel_size=self.kernel_size, stride=1, padding=int((self.kernel_size - 1) / 2))\n",
        "        x = torch.flatten(x, 1)\n",
        "        x = self.activation(self.fc1(x))\n",
        "        x = self.activation(self.fc2(x))\n",
        "        x = self.fc3(x)\n",
        "        x = x.reshape(x.size(0) * self.length**2, 2)\n",
        "        return x"
      ],
      "execution_count": 5,
      "outputs": []
    },
    {
      "cell_type": "code",
      "metadata": {
        "id": "eYk4rGGDeafp",
        "colab": {
          "base_uri": "https://localhost:8080/",
          "height": 356
        },
        "outputId": "3320d13c-3fdd-4ccf-c5b4-27a4533ba0a4"
      },
      "source": [
        "def fit_model(model, model_parameters, loss_function, optimizer, batch_size, image_normalized_length, num_of_epochs):\n",
        "    train_loader, test_loader, _ = get_train_test_loaders(batch_size, image_normalized_length)\n",
        "    # if GPU is available, prepare it for heavy calculations\n",
        "    device = torch.device(\"cuda\" if torch.cuda.is_available() else \"cpu\")\n",
        "    model = model(*model_parameters).to(device)\n",
        "    criterion = loss_function()\n",
        "    optimizer = optimizer(model.parameters(), lr=3e-4)\n",
        "    for epoch in range(1, num_of_epochs + 1):\n",
        "        model.train()\n",
        "        train_start = datetime.now()\n",
        "        epoch_loss = 0\n",
        "        for image, mask, _ in tqdm(train_loader):\n",
        "            x = image.float().to(device)\n",
        "            tag = mask.flatten().long().to(device)\n",
        "            optimizer.zero_grad()\n",
        "            prediction = model(x)\n",
        "            loss = criterion(prediction, tag)\n",
        "            loss.backward()\n",
        "            optimizer.step()\n",
        "            epoch_loss += loss.item()\n",
        "        train_end = datetime.now()\n",
        "        train_seconds = (train_end - train_start).total_seconds()\n",
        "        model.eval()\n",
        "        test_start = datetime.now()\n",
        "        total_predicted_positive, total_true_positive, total_false_negative, \\\n",
        "        total_true_prediction, total_false_prediction = 0, 0, 0, 0, 0\n",
        "        with torch.no_grad():\n",
        "            for x, y, img_nums in tqdm(test_loader):\n",
        "                img_nums = img_nums.tolist()\n",
        "                x = x.float().to(device)\n",
        "                y = y.flatten().long().to(device)\n",
        "                probabilities = model(x)\n",
        "                prediction = torch.argmax(probabilities, dim=1).float()\n",
        "\n",
        "                for i in range(0, len(img_nums)):\n",
        "                    img_num = img_nums[i]\n",
        "                    if img_num in [19, 22, 699, 9]:\n",
        "                        pred = torch.split(prediction, [image_normalized_length**2 for _ in range(batch_size)])[i]\n",
        "                        out_path = f'out/water_body_{img_num}.jpg'\n",
        "                        prediction = prediction.reshape(100, 100)\n",
        "                        save_image(prediction, out_path)\n",
        "                \n",
        "                predicted_positive = (prediction == 1).sum().item()\n",
        "                true_positive = ((prediction == 1) & (y == 1)).sum().item()\n",
        "                false_negative = ((prediction == 0) & (y == 1)).sum().item()\n",
        "\n",
        "                total_predicted_positive += predicted_positive\n",
        "                total_true_positive += true_positive\n",
        "                total_false_negative += false_negative\n",
        "                total_true_prediction += (prediction == y).sum().item()\n",
        "                total_false_prediction += (prediction != y).sum().item()\n",
        "        test_end = datetime.now()\n",
        "        test_seconds = (test_end - test_start).total_seconds()\n",
        "        recall = total_true_positive / (total_true_positive + total_false_negative)\n",
        "        precision = total_true_positive / total_predicted_positive\n",
        "        f1 = (2 * precision * recall) / (precision + recall)\n",
        "        accuracy = total_true_prediction / (total_true_prediction + total_false_prediction)\n",
        "        # append results to csv file\n",
        "        df = pd.DataFrame({'Model Name': [model.__class__.__name__],\n",
        "                           'Iteration': [epoch],\n",
        "                           'Input Image Length': [image_normalized_length],\n",
        "                           'Hidden Layer Size': [hidden_layer_size],\n",
        "                           'Batch Size': [batch_size],\n",
        "                           'Activation Function': [str(model_parameters[2].__name__)],\n",
        "                           'Optimizer': [str(type(optimizer))],\n",
        "                           'Loss Function': [str(loss_function)],\n",
        "                           'Loss': [epoch_loss],\n",
        "                           'Recall': [recall],\n",
        "                           'Precision': [precision],\n",
        "                           'F1': [f1],\n",
        "                           'Accuracy': [accuracy],\n",
        "                           'Iteration Training Seconds': [train_seconds],\n",
        "                           'Iteration Testing Seconds': [test_seconds]})\n",
        "        df.to_csv('Water_Bodies_Results.csv', index=False, mode='a', header=False)\n",
        "        print(df)\n",
        "    # save the trained model\n",
        "    model_path = f'{os.getcwd()}{os.sep}{model.__class__.__name__}-{str(model_parameters[2].__name__)}-{hidden_layer_size}.pt'\n",
        "    torch.save(model.state_dict(), model_path)\n",
        "    # clean memory of current model on exit\n",
        "    torch.cuda.empty_cache()\n",
        "\n",
        "\n",
        "if __name__ == '__main__':\n",
        "    models = (Hidden1, Hidden2, Conv1, Conv2, Conv3)\n",
        "    activation_funcs = (f.relu, f.leaky_relu)\n",
        "    hidden_layer_sizes = (4000, 3000, 2000)\n",
        "\n",
        "    optimizer = optim.Adam\n",
        "    loss_func = nn.CrossEntropyLoss\n",
        "    image_normalized_length = 100\n",
        "    batch_size = 16\n",
        "    num_of_epochs = 10\n",
        "    kernel_size = 3\n",
        "\n",
        "    # train models with varying hyperparameters\n",
        "    for model in models:\n",
        "        for activation_func in activation_funcs:\n",
        "            for hidden_layer_size in hidden_layer_sizes:\n",
        "                if 'Conv' in model.__name__:\n",
        "                    model_parameters = (image_normalized_length, hidden_layer_size, activation_func, kernel_size)\n",
        "                model_parameters = (image_normalized_length, hidden_layer_size, activation_func)\n",
        "                fit_model(model, model_parameters, loss_func, optimizer,\n",
        "                          batch_size, image_normalized_length, num_of_epochs)"
      ],
      "execution_count": 6,
      "outputs": [
        {
          "output_type": "stream",
          "name": "stderr",
          "text": [
            "100%|██████████| 143/143 [11:55<00:00,  5.00s/it]\n",
            "  3%|▎         | 1/36 [00:13<08:00, 13.73s/it]\n"
          ]
        },
        {
          "output_type": "error",
          "ename": "RuntimeError",
          "evalue": "ignored",
          "traceback": [
            "\u001b[0;31m---------------------------------------------------------------------------\u001b[0m",
            "\u001b[0;31mRuntimeError\u001b[0m                              Traceback (most recent call last)",
            "\u001b[0;32m<ipython-input-6-15cbb95e3ac6>\u001b[0m in \u001b[0;36m<module>\u001b[0;34m()\u001b[0m\n\u001b[1;32m    100\u001b[0m                 \u001b[0mmodel_parameters\u001b[0m \u001b[0;34m=\u001b[0m \u001b[0;34m(\u001b[0m\u001b[0mimage_normalized_length\u001b[0m\u001b[0;34m,\u001b[0m \u001b[0mhidden_layer_size\u001b[0m\u001b[0;34m,\u001b[0m \u001b[0mactivation_func\u001b[0m\u001b[0;34m)\u001b[0m\u001b[0;34m\u001b[0m\u001b[0;34m\u001b[0m\u001b[0m\n\u001b[1;32m    101\u001b[0m                 fit_model(model, model_parameters, loss_func, optimizer,\n\u001b[0;32m--> 102\u001b[0;31m                           batch_size, image_normalized_length, num_of_epochs)\n\u001b[0m",
            "\u001b[0;32m<ipython-input-6-15cbb95e3ac6>\u001b[0m in \u001b[0;36mfit_model\u001b[0;34m(model, model_parameters, loss_function, optimizer, batch_size, image_normalized_length, num_of_epochs)\u001b[0m\n\u001b[1;32m     37\u001b[0m                         \u001b[0mpred\u001b[0m \u001b[0;34m=\u001b[0m \u001b[0mtorch\u001b[0m\u001b[0;34m.\u001b[0m\u001b[0msplit\u001b[0m\u001b[0;34m(\u001b[0m\u001b[0mprediction\u001b[0m\u001b[0;34m,\u001b[0m \u001b[0mimage_normalized_length\u001b[0m\u001b[0;34m**\u001b[0m\u001b[0;36m2\u001b[0m\u001b[0;34m)\u001b[0m\u001b[0;34m[\u001b[0m\u001b[0mi\u001b[0m\u001b[0;34m]\u001b[0m\u001b[0;34m\u001b[0m\u001b[0;34m\u001b[0m\u001b[0m\n\u001b[1;32m     38\u001b[0m                         \u001b[0mout_path\u001b[0m \u001b[0;34m=\u001b[0m \u001b[0;34mf'out/water_body_{img_num}.jpg'\u001b[0m\u001b[0;34m\u001b[0m\u001b[0;34m\u001b[0m\u001b[0m\n\u001b[0;32m---> 39\u001b[0;31m                         \u001b[0mprediction\u001b[0m \u001b[0;34m=\u001b[0m \u001b[0mprediction\u001b[0m\u001b[0;34m.\u001b[0m\u001b[0mreshape\u001b[0m\u001b[0;34m(\u001b[0m\u001b[0;36m100\u001b[0m\u001b[0;34m,\u001b[0m \u001b[0;36m100\u001b[0m\u001b[0;34m)\u001b[0m\u001b[0;34m\u001b[0m\u001b[0;34m\u001b[0m\u001b[0m\n\u001b[0m\u001b[1;32m     40\u001b[0m                         \u001b[0msave_image\u001b[0m\u001b[0;34m(\u001b[0m\u001b[0mprediction\u001b[0m\u001b[0;34m,\u001b[0m \u001b[0mout_path\u001b[0m\u001b[0;34m)\u001b[0m\u001b[0;34m\u001b[0m\u001b[0;34m\u001b[0m\u001b[0m\n\u001b[1;32m     41\u001b[0m \u001b[0;34m\u001b[0m\u001b[0m\n",
            "\u001b[0;31mRuntimeError\u001b[0m: shape '[100, 100]' is invalid for input of size 160000"
          ]
        }
      ]
    },
    {
      "cell_type": "markdown",
      "source": [
        "### Save predictions and print # of parameters"
      ],
      "metadata": {
        "id": "kp2_pdatgaAs"
      }
    },
    {
      "cell_type": "code",
      "source": [
        "# # save model parameters\n",
        "# torch.save(the_model.state_dict(), PATH)\n",
        "# # load model parameters\n",
        "# the_model = TheModelClass(*args, **kwargs)\n",
        "# the_model.load_state_dict(torch.load(PATH))\n",
        "\n",
        "# # save the entire model\n",
        "# torch.save(the_model, PATH)\n",
        "# # load the entire model\n",
        "# the_model = torch.load(PATH)"
      ],
      "metadata": {
        "id": "E_oOhTdAffFZ"
      },
      "execution_count": null,
      "outputs": []
    },
    {
      "cell_type": "code",
      "source": [
        "model = Conv1(100, 3000, f.leaky_relu).to(device)\n",
        "model_path = f'{os.getcwd()}{os.sep}Conv1-leaky_relu-3.pt'\n",
        "model.load_state_dict(torch.load(model_path))\n",
        "_, test_loader, path_list = get_train_test_loaders(1, 100)\n",
        "\n",
        "with torch.no_grad():\n",
        "    for image, mask, img_num in test_loader:\n",
        "        img_num = str(img_num.item())\n",
        "        out_path = f'out/water_body_{img_num}.jpg'\n",
        "        x = image.float().to(device)\n",
        "        tag = mask.flatten().long().to(device)\n",
        "        prediction = model(x).float()\n",
        "        prediction = torch.argmax(prediction, dim=1)\n",
        "        prediction = prediction.reshape(100, 100)\n",
        "        # get original size\n",
        "        # img = cv2.imread(out_path)\n",
        "        # height, width = img.shape[0], img.shape[1]\n",
        "        # resize prediction to original source size\n",
        "        # prediction = f.interpolate(prediction, size=(height, width))\n",
        "        # save the prediction\n",
        "        save_image(prediction, out_path)"
      ],
      "metadata": {
        "id": "upl2KurKgWsd"
      },
      "execution_count": null,
      "outputs": []
    },
    {
      "cell_type": "code",
      "source": [
        "def get_n_params(model):\n",
        "    \"\"\"https://discuss.pytorch.org/t/how-do-i-check-the-number-of-parameters-of-a-model/4325/6\"\"\"\n",
        "    pp = 0\n",
        "    for p in list(model.parameters()):\n",
        "        nn = 1\n",
        "        for s in list(p.size()):\n",
        "            nn = nn * s\n",
        "        pp += nn\n",
        "    return pp\n",
        "\n",
        "model = Hidden1(100, 4000, f.relu).to(device)\n",
        "model_path = f'{os.getcwd()}{os.sep}Hidden1-relu-4.pt'\n",
        "model.load_state_dict(torch.load(model_path))\n",
        "\n",
        "with torch.no_grad():\n",
        "  print(get_n_params(model))"
      ],
      "metadata": {
        "id": "ok4AhcqJXcts"
      },
      "execution_count": null,
      "outputs": []
    },
    {
      "cell_type": "markdown",
      "metadata": {
        "id": "4vdxivZxsUYa"
      },
      "source": [
        "### **WARNING:** Wipe results file"
      ]
    },
    {
      "cell_type": "code",
      "metadata": {
        "id": "MIRnvFBRg5R1"
      },
      "source": [
        "# # uncomment all lines below to run\n",
        "# df = pd.DataFrame({'Model Name': [],\n",
        "#                    'Iteration': [],\n",
        "#                    'Input Image Length': [],\n",
        "#                    'Hidden Layer Size': [],\n",
        "#                    'Batch Size': [],\n",
        "#                    'Activation Function': [],\n",
        "#                    'Optimizer': [],\n",
        "#                    'Loss Function': [],\n",
        "#                    'Loss': [],\n",
        "#                    'Recall': [],\n",
        "#                    'Precision': [],\n",
        "#                    'F1': [],\n",
        "#                    'Accuracy': [],\n",
        "#                    'Iteration Training Seconds': [],\n",
        "#                    'Iteration Testing Seconds': []})\n",
        "# df.to_csv('Water_Bodies_Results.csv', index=False, header=True)"
      ],
      "execution_count": 24,
      "outputs": []
    }
  ]
}