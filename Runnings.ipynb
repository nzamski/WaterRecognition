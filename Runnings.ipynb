{
 "cells": [
  {
   "cell_type": "code",
   "execution_count": 2,
   "id": "919a6294-a12c-4ddd-8fe6-ec445a56d0f9",
   "metadata": {},
   "outputs": [],
   "source": [
    "import os\n",
    "import PIL\n",
    "import random\n",
    "import torchvision\n",
    "\n",
    "from pathlib import Path\n",
    "from torch.utils.data import Dataset, DataLoader\n",
    "from torchvision.transforms import functional as f\n",
    "\n",
    "\n",
    "def get_train_test_paths(test_ratio: float = 0.2):\n",
    "    # extract the data from the dataset folder\n",
    "    files = [file_name for file_name in\n",
    "             Path(os.getcwd() + os.sep + 'Water Bodies Dataset' + os.sep + 'Images').rglob(\"*.jpg\")]\n",
    "    # randomize the order of the data\n",
    "    random.shuffle(files)\n",
    "    # separate test and train files\n",
    "    first_train = int(test_ratio * len(files))\n",
    "    test_path = files[:first_train]\n",
    "    train_path = files[first_train:]\n",
    "    return train_path, test_path\n",
    "\n",
    "\n",
    "def get_mask_path(file_path):\n",
    "    # gets source image path, returns mask path\n",
    "    file_path = str(file_path).replace('Images', 'Masks')\n",
    "    return file_path\n",
    "\n",
    "\n",
    "class WaterDataset(Dataset):\n",
    "    def __init__(self, path_list, transform_source=None, transform_both=None):\n",
    "        self.sources = path_list\n",
    "        self.transform_source = transform_source\n",
    "        self.transform_both = transform_both\n",
    "\n",
    "    def __len__(self):\n",
    "        return len(self.sources)\n",
    "\n",
    "    def __getitem__(self, index):\n",
    "        img_path = self.sources[index]\n",
    "        source = f.to_tensor(PIL.Image.open(img_path))\n",
    "        label = f.to_tensor(PIL.Image.open(get_mask_path(img_path)).convert('L'))\n",
    "\n",
    "        if self.transform_source:\n",
    "            source = self.transform_source(source)\n",
    "        if self.transform_both:\n",
    "            source = self.transform_both(source)\n",
    "            label = self.transform_both(label)\n",
    "            label = (label < 0.5).float()\n",
    "\n",
    "            assert len(label.unique()) <= 2, \"threshold didn't work\"\n",
    "\n",
    "        return source, label\n",
    "\n",
    "\n",
    "def get_train_test_loaders(batch_size, length):\n",
    "    train_path, test_path = get_train_test_paths()\n",
    "    train_loader = DataLoader(dataset=WaterDataset(train_path,\n",
    "                                                   transform_both=torchvision.transforms.Resize((length, length))),\n",
    "                              batch_size=batch_size,\n",
    "                              shuffle=True)\n",
    "    test_loader = DataLoader(dataset=WaterDataset(test_path,\n",
    "                                                  transform_both=torchvision.transforms.Resize((length, length))),\n",
    "                             batch_size=batch_size)\n",
    "\n",
    "    return train_loader, test_loader"
   ]
  },
  {
   "cell_type": "code",
   "execution_count": 3,
   "id": "d1cc987c-b83d-445c-9fcd-37a80ab63b42",
   "metadata": {},
   "outputs": [
    {
     "name": "stderr",
     "output_type": "stream",
     "text": [
      "  0%|                                                                                                                                                                                                            | 0/1137 [00:00<?, ?it/s]C:\\Users\\nzams\\AppData\\Local\\Temp/ipykernel_5828/1293153585.py:35: UserWarning: To copy construct from a tensor, it is recommended to use sourceTensor.clone().detach() or sourceTensor.clone().detach().requires_grad_(True), rather than torch.tensor(sourceTensor).\n",
      "  x = torch.tensor(image).float()\n",
      "C:\\Users\\nzams\\AppData\\Local\\Temp/ipykernel_5828/1293153585.py:37: UserWarning: To copy construct from a tensor, it is recommended to use sourceTensor.clone().detach() or sourceTensor.clone().detach().requires_grad_(True), rather than torch.tensor(sourceTensor).\n",
      "  tag = torch.tensor(mask, dtype=torch.float).flatten()\n",
      "100%|█████████████████████████████████████████████████████████████████████████████████████████████████████████████████████████████████████████████████████████████████████████████████████████████████| 1137/1137 [01:27<00:00, 13.06it/s]\n",
      "100%|███████████████████████████████████████████████████████████████████████████████████████████████████████████████████████████████████████████████████████████████████████████████████████████████████| 284/284 [00:14<00:00, 20.23it/s]\n"
     ]
    },
    {
     "name": "stdout",
     "output_type": "stream",
     "text": [
      "  Model Name  Iteration                                    Hyperparameters  \\\n",
      "0    Hidden1          0  \"input_image_length\": 5\\n                     ...   \n",
      "\n",
      "           Loss  Accuracy   F1  Iteration Training Seconds  \n",
      "0  1.503022e+07  0.334067  0.0                   87.089792  \n"
     ]
    },
    {
     "name": "stderr",
     "output_type": "stream",
     "text": [
      "  0%|                                                                                                                                                                                                            | 0/1137 [00:00<?, ?it/s]C:\\Users\\nzams\\AppData\\Local\\Temp/ipykernel_5828/1293153585.py:35: UserWarning: To copy construct from a tensor, it is recommended to use sourceTensor.clone().detach() or sourceTensor.clone().detach().requires_grad_(True), rather than torch.tensor(sourceTensor).\n",
      "  x = torch.tensor(image).float()\n",
      "C:\\Users\\nzams\\AppData\\Local\\Temp/ipykernel_5828/1293153585.py:37: UserWarning: To copy construct from a tensor, it is recommended to use sourceTensor.clone().detach() or sourceTensor.clone().detach().requires_grad_(True), rather than torch.tensor(sourceTensor).\n",
      "  tag = torch.tensor(mask, dtype=torch.float).flatten()\n",
      "100%|█████████████████████████████████████████████████████████████████████████████████████████████████████████████████████████████████████████████████████████████████████████████████████████████████| 1137/1137 [01:42<00:00, 11.06it/s]\n",
      "100%|███████████████████████████████████████████████████████████████████████████████████████████████████████████████████████████████████████████████████████████████████████████████████████████████████| 284/284 [00:14<00:00, 19.93it/s]\n"
     ]
    },
    {
     "name": "stdout",
     "output_type": "stream",
     "text": [
      "  Model Name  Iteration                                    Hyperparameters  \\\n",
      "0    Hidden1          1  \"input_image_length\": 5\\n                     ...   \n",
      "\n",
      "           Loss  Accuracy   F1  Iteration Training Seconds  \n",
      "0  1.444846e+07  0.334067  0.0                  102.760746  \n"
     ]
    },
    {
     "name": "stderr",
     "output_type": "stream",
     "text": [
      "  0%|                                                                                                                                                                                                            | 0/1137 [00:00<?, ?it/s]C:\\Users\\nzams\\AppData\\Local\\Temp/ipykernel_5828/1293153585.py:35: UserWarning: To copy construct from a tensor, it is recommended to use sourceTensor.clone().detach() or sourceTensor.clone().detach().requires_grad_(True), rather than torch.tensor(sourceTensor).\n",
      "  x = torch.tensor(image).float()\n",
      "C:\\Users\\nzams\\AppData\\Local\\Temp/ipykernel_5828/1293153585.py:37: UserWarning: To copy construct from a tensor, it is recommended to use sourceTensor.clone().detach() or sourceTensor.clone().detach().requires_grad_(True), rather than torch.tensor(sourceTensor).\n",
      "  tag = torch.tensor(mask, dtype=torch.float).flatten()\n",
      "100%|█████████████████████████████████████████████████████████████████████████████████████████████████████████████████████████████████████████████████████████████████████████████████████████████████| 1137/1137 [01:45<00:00, 10.75it/s]\n",
      "100%|███████████████████████████████████████████████████████████████████████████████████████████████████████████████████████████████████████████████████████████████████████████████████████████████████| 284/284 [00:14<00:00, 19.47it/s]\n"
     ]
    },
    {
     "name": "stdout",
     "output_type": "stream",
     "text": [
      "  Model Name  Iteration                                    Hyperparameters  \\\n",
      "0    Hidden1          2  \"input_image_length\": 5\\n                     ...   \n",
      "\n",
      "           Loss  Accuracy   F1  Iteration Training Seconds  \n",
      "0  1.427635e+07  0.334067  0.0                  105.742819  \n"
     ]
    },
    {
     "name": "stderr",
     "output_type": "stream",
     "text": [
      "  0%|                                                                                                                                                                                                            | 0/1137 [00:00<?, ?it/s]C:\\Users\\nzams\\AppData\\Local\\Temp/ipykernel_5828/1293153585.py:35: UserWarning: To copy construct from a tensor, it is recommended to use sourceTensor.clone().detach() or sourceTensor.clone().detach().requires_grad_(True), rather than torch.tensor(sourceTensor).\n",
      "  x = torch.tensor(image).float()\n",
      "C:\\Users\\nzams\\AppData\\Local\\Temp/ipykernel_5828/1293153585.py:37: UserWarning: To copy construct from a tensor, it is recommended to use sourceTensor.clone().detach() or sourceTensor.clone().detach().requires_grad_(True), rather than torch.tensor(sourceTensor).\n",
      "  tag = torch.tensor(mask, dtype=torch.float).flatten()\n",
      "100%|█████████████████████████████████████████████████████████████████████████████████████████████████████████████████████████████████████████████████████████████████████████████████████████████████| 1137/1137 [01:48<00:00, 10.46it/s]\n",
      "100%|███████████████████████████████████████████████████████████████████████████████████████████████████████████████████████████████████████████████████████████████████████████████████████████████████| 284/284 [00:14<00:00, 19.11it/s]\n"
     ]
    },
    {
     "name": "stdout",
     "output_type": "stream",
     "text": [
      "  Model Name  Iteration                                    Hyperparameters  \\\n",
      "0    Hidden1          3  \"input_image_length\": 5\\n                     ...   \n",
      "\n",
      "           Loss  Accuracy   F1  Iteration Training Seconds  \n",
      "0  1.422980e+07  0.334067  0.0                  108.744965  \n"
     ]
    },
    {
     "name": "stderr",
     "output_type": "stream",
     "text": [
      "  0%|                                                                                                                                                                                                            | 0/1137 [00:00<?, ?it/s]C:\\Users\\nzams\\AppData\\Local\\Temp/ipykernel_5828/1293153585.py:35: UserWarning: To copy construct from a tensor, it is recommended to use sourceTensor.clone().detach() or sourceTensor.clone().detach().requires_grad_(True), rather than torch.tensor(sourceTensor).\n",
      "  x = torch.tensor(image).float()\n",
      "C:\\Users\\nzams\\AppData\\Local\\Temp/ipykernel_5828/1293153585.py:37: UserWarning: To copy construct from a tensor, it is recommended to use sourceTensor.clone().detach() or sourceTensor.clone().detach().requires_grad_(True), rather than torch.tensor(sourceTensor).\n",
      "  tag = torch.tensor(mask, dtype=torch.float).flatten()\n",
      "100%|█████████████████████████████████████████████████████████████████████████████████████████████████████████████████████████████████████████████████████████████████████████████████████████████████| 1137/1137 [01:44<00:00, 10.87it/s]\n",
      "100%|███████████████████████████████████████████████████████████████████████████████████████████████████████████████████████████████████████████████████████████████████████████████████████████████████| 284/284 [00:14<00:00, 19.92it/s]\n"
     ]
    },
    {
     "name": "stdout",
     "output_type": "stream",
     "text": [
      "  Model Name  Iteration                                    Hyperparameters  \\\n",
      "0    Hidden1          4  \"input_image_length\": 5\\n                     ...   \n",
      "\n",
      "           Loss  Accuracy   F1  Iteration Training Seconds  \n",
      "0  1.421773e+07  0.334067  0.0                   104.65299  \n"
     ]
    },
    {
     "name": "stderr",
     "output_type": "stream",
     "text": [
      "  0%|                                                                                                                                                                                                            | 0/1137 [00:00<?, ?it/s]C:\\Users\\nzams\\AppData\\Local\\Temp/ipykernel_5828/1293153585.py:35: UserWarning: To copy construct from a tensor, it is recommended to use sourceTensor.clone().detach() or sourceTensor.clone().detach().requires_grad_(True), rather than torch.tensor(sourceTensor).\n",
      "  x = torch.tensor(image).float()\n",
      "C:\\Users\\nzams\\AppData\\Local\\Temp/ipykernel_5828/1293153585.py:37: UserWarning: To copy construct from a tensor, it is recommended to use sourceTensor.clone().detach() or sourceTensor.clone().detach().requires_grad_(True), rather than torch.tensor(sourceTensor).\n",
      "  tag = torch.tensor(mask, dtype=torch.float).flatten()\n",
      "100%|█████████████████████████████████████████████████████████████████████████████████████████████████████████████████████████████████████████████████████████████████████████████████████████████████| 1137/1137 [01:44<00:00, 10.89it/s]\n",
      "100%|███████████████████████████████████████████████████████████████████████████████████████████████████████████████████████████████████████████████████████████████████████████████████████████████████| 284/284 [00:14<00:00, 19.90it/s]\n"
     ]
    },
    {
     "name": "stdout",
     "output_type": "stream",
     "text": [
      "  Model Name  Iteration                                    Hyperparameters  \\\n",
      "0    Hidden1          5  \"input_image_length\": 5\\n                     ...   \n",
      "\n",
      "           Loss  Accuracy   F1  Iteration Training Seconds  \n",
      "0  1.421443e+07  0.334067  0.0                  104.394727  \n"
     ]
    },
    {
     "name": "stderr",
     "output_type": "stream",
     "text": [
      "  0%|                                                                                                                                                                                                            | 0/1137 [00:00<?, ?it/s]C:\\Users\\nzams\\AppData\\Local\\Temp/ipykernel_5828/1293153585.py:35: UserWarning: To copy construct from a tensor, it is recommended to use sourceTensor.clone().detach() or sourceTensor.clone().detach().requires_grad_(True), rather than torch.tensor(sourceTensor).\n",
      "  x = torch.tensor(image).float()\n",
      "C:\\Users\\nzams\\AppData\\Local\\Temp/ipykernel_5828/1293153585.py:37: UserWarning: To copy construct from a tensor, it is recommended to use sourceTensor.clone().detach() or sourceTensor.clone().detach().requires_grad_(True), rather than torch.tensor(sourceTensor).\n",
      "  tag = torch.tensor(mask, dtype=torch.float).flatten()\n",
      "100%|█████████████████████████████████████████████████████████████████████████████████████████████████████████████████████████████████████████████████████████████████████████████████████████████████| 1137/1137 [01:43<00:00, 11.00it/s]\n",
      "100%|███████████████████████████████████████████████████████████████████████████████████████████████████████████████████████████████████████████████████████████████████████████████████████████████████| 284/284 [00:11<00:00, 25.52it/s]\n"
     ]
    },
    {
     "name": "stdout",
     "output_type": "stream",
     "text": [
      "  Model Name  Iteration                                    Hyperparameters  \\\n",
      "0    Hidden1          6  \"input_image_length\": 5\\n                     ...   \n",
      "\n",
      "           Loss  Accuracy   F1  Iteration Training Seconds  \n",
      "0  1.421340e+07  0.334067  0.0                  103.371864  \n"
     ]
    },
    {
     "name": "stderr",
     "output_type": "stream",
     "text": [
      "  0%|                                                                                                                                                                                                            | 0/1137 [00:00<?, ?it/s]C:\\Users\\nzams\\AppData\\Local\\Temp/ipykernel_5828/1293153585.py:35: UserWarning: To copy construct from a tensor, it is recommended to use sourceTensor.clone().detach() or sourceTensor.clone().detach().requires_grad_(True), rather than torch.tensor(sourceTensor).\n",
      "  x = torch.tensor(image).float()\n",
      "C:\\Users\\nzams\\AppData\\Local\\Temp/ipykernel_5828/1293153585.py:37: UserWarning: To copy construct from a tensor, it is recommended to use sourceTensor.clone().detach() or sourceTensor.clone().detach().requires_grad_(True), rather than torch.tensor(sourceTensor).\n",
      "  tag = torch.tensor(mask, dtype=torch.float).flatten()\n",
      "100%|█████████████████████████████████████████████████████████████████████████████████████████████████████████████████████████████████████████████████████████████████████████████████████████████████| 1137/1137 [01:24<00:00, 13.46it/s]\n",
      "100%|███████████████████████████████████████████████████████████████████████████████████████████████████████████████████████████████████████████████████████████████████████████████████████████████████| 284/284 [00:11<00:00, 23.85it/s]\n"
     ]
    },
    {
     "name": "stdout",
     "output_type": "stream",
     "text": [
      "  Model Name  Iteration                                    Hyperparameters  \\\n",
      "0    Hidden1          7  \"input_image_length\": 5\\n                     ...   \n",
      "\n",
      "           Loss  Accuracy   F1  Iteration Training Seconds  \n",
      "0  1.421297e+07  0.334067  0.0                   84.454644  \n"
     ]
    },
    {
     "name": "stderr",
     "output_type": "stream",
     "text": [
      "  0%|                                                                                                                                                                                                            | 0/1137 [00:00<?, ?it/s]C:\\Users\\nzams\\AppData\\Local\\Temp/ipykernel_5828/1293153585.py:35: UserWarning: To copy construct from a tensor, it is recommended to use sourceTensor.clone().detach() or sourceTensor.clone().detach().requires_grad_(True), rather than torch.tensor(sourceTensor).\n",
      "  x = torch.tensor(image).float()\n",
      "C:\\Users\\nzams\\AppData\\Local\\Temp/ipykernel_5828/1293153585.py:37: UserWarning: To copy construct from a tensor, it is recommended to use sourceTensor.clone().detach() or sourceTensor.clone().detach().requires_grad_(True), rather than torch.tensor(sourceTensor).\n",
      "  tag = torch.tensor(mask, dtype=torch.float).flatten()\n",
      "100%|█████████████████████████████████████████████████████████████████████████████████████████████████████████████████████████████████████████████████████████████████████████████████████████████████| 1137/1137 [01:22<00:00, 13.73it/s]\n",
      "100%|███████████████████████████████████████████████████████████████████████████████████████████████████████████████████████████████████████████████████████████████████████████████████████████████████| 284/284 [00:10<00:00, 26.58it/s]\n"
     ]
    },
    {
     "name": "stdout",
     "output_type": "stream",
     "text": [
      "  Model Name  Iteration                                    Hyperparameters  \\\n",
      "0    Hidden1          8  \"input_image_length\": 5\\n                     ...   \n",
      "\n",
      "           Loss  Accuracy   F1  Iteration Training Seconds  \n",
      "0  1.421296e+07  0.334067  0.0                   82.809281  \n"
     ]
    },
    {
     "name": "stderr",
     "output_type": "stream",
     "text": [
      "  0%|                                                                                                                                                                                                            | 0/1137 [00:00<?, ?it/s]C:\\Users\\nzams\\AppData\\Local\\Temp/ipykernel_5828/1293153585.py:35: UserWarning: To copy construct from a tensor, it is recommended to use sourceTensor.clone().detach() or sourceTensor.clone().detach().requires_grad_(True), rather than torch.tensor(sourceTensor).\n",
      "  x = torch.tensor(image).float()\n",
      "C:\\Users\\nzams\\AppData\\Local\\Temp/ipykernel_5828/1293153585.py:37: UserWarning: To copy construct from a tensor, it is recommended to use sourceTensor.clone().detach() or sourceTensor.clone().detach().requires_grad_(True), rather than torch.tensor(sourceTensor).\n",
      "  tag = torch.tensor(mask, dtype=torch.float).flatten()\n",
      "100%|█████████████████████████████████████████████████████████████████████████████████████████████████████████████████████████████████████████████████████████████████████████████████████████████████| 1137/1137 [01:20<00:00, 14.06it/s]\n",
      "100%|███████████████████████████████████████████████████████████████████████████████████████████████████████████████████████████████████████████████████████████████████████████████████████████████████| 284/284 [00:10<00:00, 26.44it/s]\n"
     ]
    },
    {
     "name": "stdout",
     "output_type": "stream",
     "text": [
      "  Model Name  Iteration                                    Hyperparameters  \\\n",
      "0    Hidden1          9  \"input_image_length\": 5\\n                     ...   \n",
      "\n",
      "           Loss  Accuracy   F1  Iteration Training Seconds  \n",
      "0  1.421294e+07  0.334067  0.0                   80.899928  \n"
     ]
    }
   ],
   "source": [
    "import pandas as pd\n",
    "\n",
    "from Models import *\n",
    "from torch import optim\n",
    "from datetime import datetime\n",
    "from tqdm.notebook import tqdm as tqdm\n",
    "from WaterDataset import get_train_test_loaders\n",
    "from sklearn.metrics import accuracy_score, f1_score\n",
    "\n",
    "\n",
    "def fit_model(model, model_parameters, loss_function, optimizer, batch_size, image_normalized_length):\n",
    "    # retrieve train and test files\n",
    "    train_loader, test_loader = get_train_test_loaders(batch_size, image_normalized_length)\n",
    "    device = torch.device(\"cuda\" if torch.cuda.is_available() else \"cpu\")\n",
    "    # assign the model\n",
    "    model = model(*model_parameters).to(device)\n",
    "    # same importance for every pixel, same calculation for every pixel\n",
    "    loss_reduction = 'sum'\n",
    "    pos_weight = torch.ones([(image_normalized_length ** 2) * batch_size]).to(device)\n",
    "    # set a loss function\n",
    "    criterion = loss_function(reduction=loss_reduction, pos_weight=pos_weight)\n",
    "    # set an optimizer\n",
    "    optimizer = optimizer(model.parameters(), lr=0.001)\n",
    "    # MODEL TRAINING\n",
    "    model.train()\n",
    "    for epoch in range(10):\n",
    "        # start counting epoch duration\n",
    "        epoch_start = datetime.now()\n",
    "        # initiate epoch loss\n",
    "        epoch_loss = 0\n",
    "        # iterate through all data pairs\n",
    "        for image, mask in tqdm(train_loader):\n",
    "            # convert input pixel to tensor\n",
    "            x = torch.tensor(image).float().to(device)\n",
    "            # convert target to tensor\n",
    "            tag = torch.tensor(mask, dtype=torch.float).flatten().to(device)\n",
    "            # reset all gradients\n",
    "            optimizer.zero_grad()\n",
    "            # save current prediction\n",
    "            prediction = model(x).view(-1)\n",
    "            if len(prediction) != len(pos_weight):\n",
    "                pos_weight = torch.ones([len(prediction)]).to(device)\n",
    "                criterion = loss_function(reduction=loss_reduction, pos_weight=pos_weight)\n",
    "            # activate loss function, calculate loss\n",
    "            loss = criterion(prediction, tag)\n",
    "            # back propagation\n",
    "            loss.backward()\n",
    "            optimizer.step()\n",
    "            # update epoch loss\n",
    "            epoch_loss += loss.item()\n",
    "        # stop counting epoch duration\n",
    "        epoch_end = datetime.now()\n",
    "        epoch_seconds = (epoch_end - epoch_start).total_seconds()\n",
    "        # MODEL EVALUATION\n",
    "        model.eval()\n",
    "        # collect predicted results and real results\n",
    "        predicted, real = list(), list()\n",
    "        for x, y in tqdm(test_loader):\n",
    "            x = x.to(device)\n",
    "            real.append(y)\n",
    "            probabilities = model(x)\n",
    "            batch_predicted = torch.argmax(probabilities, dim=1)\n",
    "            predicted.append(batch_predicted)\n",
    "        real = torch.cat(real).flatten()\n",
    "        predicted = torch.cat(predicted).flatten().detach().cpu()\n",
    "        # calculate accuracy and f1 score\n",
    "        accuracy = accuracy_score(real, predicted)\n",
    "        f1 = f1_score(real, predicted)\n",
    "        # append results to csv file\n",
    "        hyperparameters = {'Input Image Length': image_normalized_length,\n",
    "                           'Hidden Layer Size': hidden_layer_size,\n",
    "                           'Activation Function': model_parameters[2],\n",
    "                           'Optimizer': optimizer,\n",
    "                           'Loss Function': loss_function}\n",
    "        df = pd.DataFrame({'Model Name': ['Hidden1'],\n",
    "                           'Iteration': [epoch],\n",
    "                           'Hyperparameters': str(hyperparameters),\n",
    "                           'Loss': [epoch_loss],\n",
    "                           'Accuracy': [accuracy],\n",
    "                           'F1': [f1],\n",
    "                           'Iteration Training Seconds': [epoch_seconds]})\n",
    "        df.to_csv('Water_Bodies_Results.csv', index=False, mode='a', header=False)\n",
    "        print(df)\n",
    "\n",
    "\n",
    "if __name__ == '__main__':\n",
    "    loss_func = nn.BCEWithLogitsLoss\n",
    "    optimizers = (optim.Adam, optim.SGD)\n",
    "    activation_funcs = (f.relu, f.leaky_relu, f.sigmoid)\n",
    "    image_normalized_length = 100\n",
    "    batch_size = 2\n",
    "    hidden_layer_size = 50\n",
    "\n",
    "    # train the model\n",
    "    model_parameters = (image_normalized_length, hidden_layer_size, activation_funcs[0])\n",
    "    fit_model(Hidden1, model_parameters, loss_func, optimizers[0], batch_size, image_normalized_length)\n"
   ]
  },
  {
   "cell_type": "code",
   "execution_count": null,
   "id": "30b6cb65-4e77-4cba-af86-18e726dbb293",
   "metadata": {},
   "outputs": [],
   "source": []
  },
  {
   "cell_type": "code",
   "execution_count": null,
   "id": "c6de162c-3b03-49be-9b1e-ccca569fec32",
   "metadata": {},
   "outputs": [],
   "source": []
  }
 ],
 "metadata": {
  "kernelspec": {
   "display_name": "Python 3 (ipykernel)",
   "language": "python",
   "name": "python3"
  },
  "language_info": {
   "codemirror_mode": {
    "name": "ipython",
    "version": 3
   },
   "file_extension": ".py",
   "mimetype": "text/x-python",
   "name": "python",
   "nbconvert_exporter": "python",
   "pygments_lexer": "ipython3",
   "version": "3.8.10"
  }
 },
 "nbformat": 4,
 "nbformat_minor": 5
}
