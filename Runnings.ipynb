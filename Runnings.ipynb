{
  "nbformat": 4,
  "nbformat_minor": 0,
  "metadata": {
    "colab": {
      "name": "Runnings.ipynb",
      "provenance": [],
      "collapsed_sections": []
    },
    "kernelspec": {
      "name": "python3",
      "display_name": "Python 3"
    },
    "language_info": {
      "name": "python"
    },
    "accelerator": "GPU"
  },
  "cells": [
    {
      "cell_type": "code",
      "metadata": {
        "colab": {
          "base_uri": "https://localhost:8080/"
        },
        "id": "fuj8pA5yfdDE",
        "outputId": "84f1bdd6-2a22-4447-d74b-6f09e205fc93"
      },
      "source": [
        "from google.colab import drive\n",
        "drive.mount('/content/drive')"
      ],
      "execution_count": null,
      "outputs": [
        {
          "output_type": "stream",
          "name": "stdout",
          "text": [
            "Mounted at /content/drive\n"
          ]
        }
      ]
    },
    {
      "cell_type": "code",
      "metadata": {
        "colab": {
          "base_uri": "https://localhost:8080/",
          "height": 35
        },
        "id": "keTR12CKjCm4",
        "outputId": "d4d7752e-e487-402e-b69c-a365e8f094d9"
      },
      "source": [
        "os.getcwd()"
      ],
      "execution_count": null,
      "outputs": [
        {
          "output_type": "execute_result",
          "data": {
            "application/vnd.google.colaboratory.intrinsic+json": {
              "type": "string"
            },
            "text/plain": [
              "'/content'"
            ]
          },
          "metadata": {},
          "execution_count": 8
        }
      ]
    },
    {
      "cell_type": "code",
      "metadata": {
        "id": "-q86Ykx_hFMF"
      },
      "source": [
        "device = torch.device(\"cuda\" if torch.cuda.is_available() else \"cpu\")"
      ],
      "execution_count": null,
      "outputs": []
    },
    {
      "cell_type": "code",
      "metadata": {
        "colab": {
          "base_uri": "https://localhost:8080/"
        },
        "id": "ftEk3z1MhK4F",
        "outputId": "6e6b77fa-c260-4d95-db02-05feb8c22599"
      },
      "source": [
        "!nvidia-smi"
      ],
      "execution_count": null,
      "outputs": [
        {
          "output_type": "stream",
          "name": "stdout",
          "text": [
            "NVIDIA-SMI has failed because it couldn't communicate with the NVIDIA driver. Make sure that the latest NVIDIA driver is installed and running.\n",
            "\n"
          ]
        }
      ]
    },
    {
      "cell_type": "code",
      "metadata": {
        "id": "Rqcha-jmncfh"
      },
      "source": [
        "torch.cuda.empty_cache()"
      ],
      "execution_count": null,
      "outputs": []
    },
    {
      "cell_type": "code",
      "metadata": {
        "id": "aFT2L4tPd2hx"
      },
      "source": [
        "import os\n",
        "import PIL\n",
        "import random\n",
        "import torchvision\n",
        "\n",
        "from pathlib import Path\n",
        "from torch.utils.data import Dataset, DataLoader\n",
        "from torchvision.transforms import functional\n",
        "\n",
        "\n",
        "def get_train_test_paths(test_ratio: float = 0.2):\n",
        "    # extract the data from the dataset folder\n",
        "    files = [file_name for file_name in\n",
        "             Path(os.getcwd() + os.sep + 'drive' + os.sep + 'MyDrive' + os.sep + 'Water Bodies Dataset' + os.sep + 'Images').rglob(\"*.jpg\")]\n",
        "    # randomize the order of the data\n",
        "    random.shuffle(files)\n",
        "    # separate test and train files\n",
        "    first_train = int(test_ratio * len(files))\n",
        "    test_path = files[:first_train]\n",
        "    train_path = files[first_train:]\n",
        "    return train_path, test_path\n",
        "\n",
        "\n",
        "def get_mask_path(file_path):\n",
        "    # gets source image path, returns mask path\n",
        "    file_path = str(file_path).replace('Images', 'Masks')\n",
        "    return file_path\n",
        "\n",
        "\n",
        "class WaterDataset(Dataset):\n",
        "    def __init__(self, path_list, transform_source=None, transform_both=None):\n",
        "        self.sources = path_list\n",
        "        self.transform_source = transform_source\n",
        "        self.transform_both = transform_both\n",
        "\n",
        "    def __len__(self):\n",
        "        return len(self.sources)\n",
        "\n",
        "    def __getitem__(self, index):\n",
        "        img_path = self.sources[index]\n",
        "        source = functional.to_tensor(PIL.Image.open(img_path))\n",
        "        label = functional.to_tensor(PIL.Image.open(get_mask_path(img_path)).convert('L'))\n",
        "\n",
        "        if self.transform_source:\n",
        "            source = self.transform_source(source)\n",
        "        if self.transform_both:\n",
        "            source = self.transform_both(source)\n",
        "            label = self.transform_both(label)\n",
        "            label = (label < 0.5).float()\n",
        "\n",
        "            assert len(label.unique()) <= 2, \"threshold didn't work\"\n",
        "\n",
        "        return source, label\n",
        "\n",
        "\n",
        "def get_train_test_loaders(batch_size, length):\n",
        "    train_path, test_path = get_train_test_paths()\n",
        "    train_loader = DataLoader(dataset=WaterDataset(train_path,\n",
        "                                                   transform_both=torchvision.transforms.Resize((length, length))),\n",
        "                              batch_size=batch_size,\n",
        "                              shuffle=True)\n",
        "    test_loader = DataLoader(dataset=WaterDataset(test_path,\n",
        "                                                  transform_both=torchvision.transforms.Resize((length, length))),\n",
        "                             batch_size=batch_size)\n",
        "\n",
        "    return train_loader, test_loader\n"
      ],
      "execution_count": null,
      "outputs": []
    },
    {
      "cell_type": "code",
      "metadata": {
        "id": "iWCYst_PeX88"
      },
      "source": [
        "import torch\n",
        "import torch.nn as nn\n",
        "import torch.nn.functional as f\n",
        "\n",
        "\n",
        "class Hidden1(nn.Module):\n",
        "    # define the model\n",
        "    def __init__(self, length, hidden_size, activation):\n",
        "        super().__init__()\n",
        "        self.activation = activation\n",
        "        self.length = length\n",
        "\n",
        "        self.flat = nn.Flatten()\n",
        "        self.fc1 = nn.Linear(length * length * 3, hidden_size)\n",
        "        self.fc2 = nn.Linear(hidden_size, 2 * length * length)  # 2 for each class\n",
        "\n",
        "    # set activation functions for the layers\n",
        "    def forward(self, x):\n",
        "        x = self.flat(x)\n",
        "        x = self.activation(self.fc1(x))\n",
        "        x = self.activation(self.fc2(x))\n",
        "        x = x.reshape(x.size(0) * self.length**2, 2)\n",
        "        return x\n",
        "\n",
        "\n",
        "class Hidden2(nn.Module):\n",
        "    # define the model\n",
        "    def __init__(self, length, hidden_size, activation):\n",
        "        super().__init__()\n",
        "        self.activation = activation\n",
        "        self.length = length\n",
        "\n",
        "        self.flat = nn.Flatten()\n",
        "        self.fc1 = nn.Linear(length * length * 3, hidden_size)\n",
        "        self.fc2 = nn.Linear(hidden_size, hidden_size)\n",
        "        self.fc3 = nn.Linear(hidden_size, 2 * length * length)  # 2 for each class\n",
        "\n",
        "    # set activation functions for the layers\n",
        "    def forward(self, x):\n",
        "        x = self.flat(x)\n",
        "        x = self.activation(self.fc1(x))\n",
        "        x = self.activation(self.fc2(x))\n",
        "        x = self.activation(self.fc3(x))\n",
        "        x = x.reshape(x.size(0) * self.length**2, 2)\n",
        "        return x\n",
        "\n",
        "\n",
        "class Conv1(nn.Module):\n",
        "    # define the model\n",
        "    def __init__(self, length, hidden_size, activation, kernel_size: int = 3):\n",
        "        super().__init__()\n",
        "        self.activation = activation\n",
        "        self.length = length\n",
        "        self.kernel_size = kernel_size  # expected odd kernel_size\n",
        "        self.hidden_size = hidden_size  # hidden_size = 3 times a perfect square\n",
        "\n",
        "        self.conv1 = nn.Conv2d(3, 3, self.kernel_size, padding=int((self.kernel_size - 1) / 2))\n",
        "        self.fc1 = nn.Linear(3 * length * length, self.hidden_size)\n",
        "        self.fc2 = nn.Linear(self.hidden_size, self.hidden_size)\n",
        "        self.fc3 = nn.Linear(self.hidden_size, 2 * length * length)\n",
        "\n",
        "    def forward(self, x):\n",
        "        x = self.activation(self.conv1(x))\n",
        "        x = f.max_pool2d(x, kernel_size=self.kernel_size, stride=1, padding=int((self.kernel_size - 1) / 2))\n",
        "        x = torch.flatten(x, 1)\n",
        "        x = self.activation(self.fc1(x))\n",
        "        x = self.activation(self.fc2(x))\n",
        "        x = self.fc3(x)\n",
        "        x = x.reshape(x.size(0) * self.length ** 2, 2)\n",
        "        return x\n",
        "\n",
        "\n",
        "class Conv2(nn.Module):\n",
        "    # define the model\n",
        "    def __init__(self, length, hidden_size, activation, kernel_size: int = 3):\n",
        "        super().__init__()\n",
        "        self.activation = activation\n",
        "        self.length = length\n",
        "        self.kernel_size = kernel_size  # expected odd kernel_size\n",
        "        self.hidden_size = hidden_size  # hidden_size = 3 times a perfect square\n",
        "\n",
        "        self.conv1 = nn.Conv2d(3, 3, self.kernel_size, padding=int((self.kernel_size - 1) / 2))\n",
        "        self.conv2 = nn.Conv2d(3, 3, self.kernel_size, padding=int((self.kernel_size - 1) / 2))\n",
        "        self.fc1 = nn.Linear(3 * length * length, self.hidden_size)\n",
        "        self.fc2 = nn.Linear(self.hidden_size, self.hidden_size)\n",
        "        self.fc3 = nn.Linear(self.hidden_size, 2 * length * length)\n",
        "\n",
        "    def forward(self, x):\n",
        "        x = self.activation(self.conv1(x))\n",
        "        x = f.max_pool2d(x, kernel_size=self.kernel_size, stride=1, padding=int((self.kernel_size - 1) / 2))\n",
        "        x = self.activation(self.conv2(x))\n",
        "        x = f.max_pool2d(x, kernel_size=self.kernel_size, stride=1, padding=int((self.kernel_size - 1) / 2))\n",
        "        x = torch.flatten(x, 1)\n",
        "        x = self.activation(self.fc1(x))\n",
        "        x = self.activation(self.fc2(x))\n",
        "        x = self.fc3(x)\n",
        "        x = x.reshape(x.size(0) * self.length ** 2, 2)\n",
        "        return x\n",
        "\n",
        "\n",
        "class Conv3(nn.Module):\n",
        "    # define the model\n",
        "    def __init__(self, length, hidden_size, activation, kernel_size: int = 3):\n",
        "        super().__init__()\n",
        "        self.activation = activation\n",
        "        self.length = length\n",
        "        self.kernel_size = kernel_size  # expected odd kernel_size\n",
        "        self.hidden_size = hidden_size  # hidden_size = 3 times a perfect square\n",
        "\n",
        "        self.conv1 = nn.Conv2d(3, 3, self.kernel_size, padding=int((self.kernel_size - 1) / 2))\n",
        "        self.conv2 = nn.Conv2d(3, 3, self.kernel_size, padding=int((self.kernel_size - 1) / 2))\n",
        "        self.conv3 = nn.Conv2d(3, 3, self.kernel_size, padding=int((self.kernel_size - 1) / 2))\n",
        "        self.fc1 = nn.Linear(3 * length * length, self.hidden_size)\n",
        "        self.fc2 = nn.Linear(self.hidden_size, self.hidden_size)\n",
        "        self.fc3 = nn.Linear(self.hidden_size, 2 * length * length)\n",
        "\n",
        "    def forward(self, x):\n",
        "        x = self.activation(self.conv1(x))\n",
        "        x = f.max_pool2d(x, kernel_size=self.kernel_size, stride=1, padding=int((self.kernel_size - 1) / 2))\n",
        "        x = self.activation(self.conv2(x))\n",
        "        x = f.max_pool2d(x, kernel_size=self.kernel_size, stride=1, padding=int((self.kernel_size - 1) / 2))\n",
        "        x = self.activation(self.conv3(x))\n",
        "        x = f.max_pool2d(x, kernel_size=self.kernel_size, stride=1, padding=int((self.kernel_size - 1) / 2))\n",
        "        x = torch.flatten(x, 1)\n",
        "        x = self.activation(self.fc1(x))\n",
        "        x = self.activation(self.fc2(x))\n",
        "        x = self.fc3(x)\n",
        "        x = x.reshape(x.size(0) * self.length ** 2, 2)\n",
        "        return x\n"
      ],
      "execution_count": null,
      "outputs": []
    },
    {
      "cell_type": "code",
      "metadata": {
        "colab": {
          "base_uri": "https://localhost:8080/"
        },
        "id": "eYk4rGGDeafp",
        "outputId": "143be784-2e1a-49b8-e6a5-4bf3ecece3c6"
      },
      "source": [
        "import os\n",
        "import cv2\n",
        "import pandas as pd\n",
        "import torch.nn.functional as f\n",
        "\n",
        "from tqdm import tqdm\n",
        "from torch import optim\n",
        "from datetime import datetime\n",
        "from torchvision.utils import save_image\n",
        "from torchvision.transforms import Resize\n",
        "from sklearn.metrics import accuracy_score, f1_score\n",
        "\n",
        "\n",
        "def get_img_index(path):\n",
        "    index = str(path).split('_')[-1].split('.')[0]\n",
        "    return index\n",
        "\n",
        "\n",
        "def fit_model(model, model_parameters, loss_function, optimizer, batch_size, image_normalized_length, num_of_epochs):\n",
        "    # retrieve train and test files\n",
        "    train_loader, test_loader = get_train_test_loaders(batch_size, image_normalized_length)\n",
        "    # if GPU is available, prepare it for heavy calculations\n",
        "    device = torch.device(\"cuda\" if torch.cuda.is_available() else \"cpu\")\n",
        "    # assign the model\n",
        "    model = model(*model_parameters).to(device)\n",
        "    # assign the loss function\n",
        "    criterion = loss_function()\n",
        "    # set an optimizer\n",
        "    optimizer = optimizer(model.parameters(), lr=3e-4)\n",
        "    for epoch in range(1, num_of_epochs + 1):\n",
        "        # MODEL TRAINING\n",
        "        model.train()\n",
        "        # start counting epoch duration\n",
        "        epoch_start = datetime.now()\n",
        "        # initiate epoch loss\n",
        "        epoch_loss = 0\n",
        "        # iterate through all data pairs\n",
        "        for image, mask in tqdm(train_loader):\n",
        "            # convert input pixel to tensor\n",
        "            x = image.float().to(device)\n",
        "            # convert target to tensor\n",
        "            tag = mask.flatten().long().to(device)\n",
        "            # reset all gradients\n",
        "            optimizer.zero_grad()\n",
        "            # save current prediction\n",
        "            prediction = model(x)\n",
        "            # activate loss function, calculate loss\n",
        "            loss = criterion(prediction, tag)\n",
        "            # back propagation\n",
        "            loss.backward()\n",
        "            optimizer.step()\n",
        "            # update epoch loss\n",
        "            epoch_loss += loss.item()\n",
        "        # stop counting epoch duration\n",
        "        epoch_end = datetime.now()\n",
        "        epoch_seconds = (epoch_end - epoch_start).total_seconds()\n",
        "        # MODEL EVALUATION\n",
        "        model.eval()\n",
        "        # collect predicted results and real results\n",
        "        predicted, real = list(), list()\n",
        "        for x, y in tqdm(test_loader):\n",
        "            x = x.to(device)\n",
        "            real.append(y)\n",
        "            probabilities = model(x)\n",
        "            batch_predicted = torch.argmax(probabilities, dim=1)\n",
        "            predicted.append(batch_predicted)\n",
        "        real = torch.cat(real).reshape(-1)\n",
        "        predicted = torch.cat(predicted).reshape(-1).detach().cpu()\n",
        "        # calculate accuracy and f1 score\n",
        "        accuracy = accuracy_score(real, predicted)\n",
        "        f1 = f1_score(real, predicted)\n",
        "        # append results to csv file\n",
        "        df = pd.DataFrame({'Model Name': [model.__class__.__name__],\n",
        "                           'Iteration': [epoch],\n",
        "                           'Input Image Length': [image_normalized_length],\n",
        "                           'Hidden Layer Size': [hidden_layer_size],\n",
        "                           'Batch Size': [batch_size],\n",
        "                           'Activation Function': [str(model_parameters[2].__name__)],\n",
        "                           'Optimizer': [str(type(optimizer))],\n",
        "                           'Loss Function': [str(loss_function)],\n",
        "                           'Loss': [epoch_loss],\n",
        "                           'Accuracy': [accuracy],\n",
        "                           'F1': [f1],\n",
        "                           'Iteration Training Seconds': [epoch_seconds]})\n",
        "        df.to_csv('drive/MyDrive/Water_Bodies_Results.csv', index=False, mode='a', header=False)\n",
        "        print(df)\n",
        "    # save a prediction\n",
        "    # with torch.no_grad():\n",
        "    #     for i, image, mask in enumerate(test_loader):\n",
        "    #         name = ''\n",
        "    #         x = image.float().to(device)\n",
        "    #         tag = mask.flatten().long().to(device)\n",
        "    #         prediction = model(x)\n",
        "    #         file_name, _ = test_loader.dataset.samples[i]\n",
        "    #         file_index = get_img_index(file_name)\n",
        "    #         save_prediction(prediction, file_index, name)\n",
        "    torch.cuda.empty_cache()\n",
        "\n",
        "\n",
        "def save_prediction(prediction, index, name):\n",
        "    # convert two-valued pixels to single-max-value\n",
        "    prediction = torch.argmax(prediction, dim=1)\n",
        "    # reshape the flattened prediction to a matrix\n",
        "    prediction = prediction.reshape(100, 100)\n",
        "    # get original size\n",
        "    source_path = f'{os.getcwd()}{os.sep}Water Bodies Dataset{os.sep}Images{os.sep}water_body_{index}.jpg'\n",
        "    width, height = cv2.imread(source_path).shape\n",
        "    # resize prediction to original source size\n",
        "    prediction = Resize(prediction, size=(width, height))\n",
        "    prediction_path = f'{os.getcwd()}{os.sep}Deep Images{os.sep}{name}_{index}.jpg'\n",
        "    # save the prediction\n",
        "    save_image(prediction, prediction_path)\n",
        "\n",
        "\n",
        "if __name__ == '__main__':\n",
        "    models = (Hidden1, Hidden2)\n",
        "    activation_funcs = (f.relu, f.leaky_relu, f.sigmoid)\n",
        "    hidden_layer_sizes = (2_500, 10_000, 40_000)\n",
        "    batch_sizes = (4, 16)\n",
        "    optimizers = (optim.Adam, optim.SGD)\n",
        "\n",
        "    image_normalized_length = 100\n",
        "    num_of_epochs = 10\n",
        "    loss_func = nn.CrossEntropyLoss\n",
        "    kernel_size = 3\n",
        "\n",
        "    # train models with varying hyperparameters\n",
        "    for model in models:\n",
        "        for activation_func in activation_funcs:\n",
        "            for hidden_layer_size in hidden_layer_sizes:\n",
        "                for batch_size in batch_sizes:\n",
        "                    for optimizer in optimizers:\n",
        "                        model_parameters = (image_normalized_length, hidden_layer_size, activation_func)\n",
        "                        fit_model(model, model_parameters, loss_func, optimizer,\n",
        "                                  batch_size, image_normalized_length, num_of_epochs)\n"
      ],
      "execution_count": null,
      "outputs": [
        {
          "output_type": "stream",
          "name": "stderr",
          "text": [
            " 45%|████▌     | 258/569 [16:03<18:04,  3.49s/it]"
          ]
        }
      ]
    },
    {
      "cell_type": "code",
      "metadata": {
        "id": "MIRnvFBRg5R1"
      },
      "source": [
        "df = pd.DataFrame({'Model Name': [],\n",
        "                   'Iteration': [],\n",
        "                   'Input Image Length': [],\n",
        "                   'Hidden Layer Size': [],\n",
        "                   'Batch Size': [],\n",
        "                   'Activation Function': [],\n",
        "                   'Optimizer': [],\n",
        "                   'Loss Function': [],\n",
        "                   'Loss': [],\n",
        "                   'Accuracy': [],\n",
        "                   'F1': [],\n",
        "                   'Iteration Training Seconds': []})\n",
        "df.to_csv('drive/MyDrive/Water_Bodies_Results.csv', index=False, header=True)"
      ],
      "execution_count": null,
      "outputs": []
    }
  ]
}