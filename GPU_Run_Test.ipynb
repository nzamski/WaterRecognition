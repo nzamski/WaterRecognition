{
  "nbformat": 4,
  "nbformat_minor": 5,
  "metadata": {
    "kernelspec": {
      "display_name": "Python 3 (ipykernel)",
      "language": "python",
      "name": "python3"
    },
    "language_info": {
      "codemirror_mode": {
        "name": "ipython",
        "version": 3
      },
      "file_extension": ".py",
      "mimetype": "text/x-python",
      "name": "python",
      "nbconvert_exporter": "python",
      "pygments_lexer": "ipython3",
      "version": "3.7.10"
    },
    "colab": {
      "name": "GPU Run Test.ipynb",
      "provenance": [],
      "collapsed_sections": []
    },
    "accelerator": "GPU"
  },
  "cells": [
    {
      "cell_type": "markdown",
      "metadata": {
        "id": "5PXcG0S0ywAC"
      },
      "source": [
        "### Imports"
      ],
      "id": "5PXcG0S0ywAC"
    },
    {
      "cell_type": "code",
      "metadata": {
        "id": "c30b7c9e-a5fe-4aba-b0a1-7c245c1624c2"
      },
      "source": [
        "import os\n",
        "import torch\n",
        "import numpy as np\n",
        "import pandas as pd\n",
        "import seaborn as sns\n",
        "import torch.nn as nn\n",
        "import torch.optim as optim\n",
        "import matplotlib.pyplot as plt\n",
        "import torch.nn.functional as f\n",
        "\n",
        "from tqdm import tqdm\n",
        "from PIL import Image\n",
        "from glob import glob\n",
        "from cv2 import imread\n",
        "from pathlib import Path\n",
        "from random import shuffle, seed\n",
        "from datetime import datetime\n",
        "from sklearn.metrics import accuracy_score, f1_score"
      ],
      "id": "c30b7c9e-a5fe-4aba-b0a1-7c245c1624c2",
      "execution_count": null,
      "outputs": []
    },
    {
      "cell_type": "markdown",
      "metadata": {
        "id": "EGqHt3mvy3zR"
      },
      "source": [
        "### Experiments"
      ],
      "id": "EGqHt3mvy3zR"
    },
    {
      "cell_type": "code",
      "metadata": {
        "id": "hs03n2z4o4Pz"
      },
      "source": [
        "device = torch.device(\"cuda\" if torch.cuda.is_available() else \"cpu\")"
      ],
      "id": "hs03n2z4o4Pz",
      "execution_count": null,
      "outputs": []
    },
    {
      "cell_type": "code",
      "metadata": {
        "id": "aEFajy1gw4nR"
      },
      "source": [
        "!nvidia-smi"
      ],
      "id": "aEFajy1gw4nR",
      "execution_count": null,
      "outputs": []
    },
    {
      "cell_type": "code",
      "metadata": {
        "id": "1KZxCpBiyDS3"
      },
      "source": [
        "os.getcwd()"
      ],
      "id": "1KZxCpBiyDS3",
      "execution_count": null,
      "outputs": []
    },
    {
      "cell_type": "code",
      "metadata": {
        "id": "H4iXWW5tyE96"
      },
      "source": [
        "from google.colab import drive\n",
        "drive.mount('/content/drive')"
      ],
      "id": "H4iXWW5tyE96",
      "execution_count": null,
      "outputs": []
    },
    {
      "cell_type": "markdown",
      "metadata": {
        "id": "BJwsx2e8ydoa"
      },
      "source": [
        "### Algorithm Run Tests"
      ],
      "id": "BJwsx2e8ydoa"
    },
    {
      "cell_type": "code",
      "metadata": {
        "id": "J-yQ0bygqwsp"
      },
      "source": [
        "class Hidden1(nn.Module):\n",
        "    # define the model\n",
        "    def __init__(self, length, hidden_size, activation):\n",
        "        super().__init__()\n",
        "        self.activation = activation\n",
        "        self.flat = nn.Flatten()\n",
        "        self.fc1 = nn.Linear(length * length * 3, hidden_size)\n",
        "        self.fc2 = nn.Linear(hidden_size, 2)\n",
        "\n",
        "    # set activation functions for the layers\n",
        "    def forward(self, x):\n",
        "        x = self.flat(x)\n",
        "        x = self.activation(self.fc1(x))\n",
        "        x = self.fc2(x)\n",
        "        return x"
      ],
      "id": "J-yQ0bygqwsp",
      "execution_count": null,
      "outputs": []
    },
    {
      "cell_type": "code",
      "metadata": {
        "id": "NGez7HhmxlBB"
      },
      "source": [
        "model = Hidden1\n",
        "batch_size = 256\n",
        "input_image_length = 5\n",
        "hidden_layer_size = 10\n",
        "activation = f.relu\n",
        "model_parameters = (input_image_length, hidden_layer_size, activation)\n",
        "optimizer = optim.Adam\n",
        "loss_function = nn.CrossEntropyLoss\n",
        "fit_model(model, model_parameters, loss_function, batch_size, optimizer, input_image_length)"
      ],
      "id": "NGez7HhmxlBB",
      "execution_count": null,
      "outputs": []
    }
  ]
}